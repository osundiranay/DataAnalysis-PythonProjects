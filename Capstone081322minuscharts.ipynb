{
  "cells": [
    {
      "cell_type": "markdown",
      "metadata": {
        "id": "view-in-github",
        "colab_type": "text"
      },
      "source": [
        "<a href=\"https://colab.research.google.com/github/MelAGndy/DataAnalysis-PythonProjects/blob/main/Capstone081322minuscharts.ipynb\" target=\"_parent\"><img src=\"https://colab.research.google.com/assets/colab-badge.svg\" alt=\"Open In Colab\"/></a>"
      ]
    },
    {
      "cell_type": "markdown",
      "metadata": {
        "id": "IQw3zubVTzSn"
      },
      "source": [
        "\n",
        "\n",
        "\n",
        "\n",
        "\n",
        "\n",
        "\n",
        "\n",
        "\n",
        "\n",
        "\n",
        "\n",
        "\n",
        "\n",
        "\n",
        "\n",
        "\n",
        "\n",
        "\n",
        "\n",
        "\n",
        "\n",
        "\n",
        "\n",
        "\n",
        "\n",
        "\n",
        "\n",
        "\n",
        "\n",
        "\n",
        "\n",
        "\n",
        "\n",
        "\n",
        "\n",
        "\n",
        "\n",
        "\n",
        "\n",
        "\n",
        "\n",
        "\n",
        "\n",
        "\n",
        "\n",
        "\n",
        "\n",
        "\n",
        "\n",
        "\n",
        "\n",
        "\n",
        "\n",
        "\n",
        "\n",
        "\n",
        "\n",
        "\n",
        "\n",
        "\n",
        "\n",
        "\n",
        "\n",
        "\n",
        "\n",
        "\n",
        "\n",
        "\n",
        "\n",
        "\n",
        "\n",
        "\n",
        "\n",
        "\n",
        "\n",
        "\n",
        "\n",
        "\n",
        "\n",
        "\n",
        "\n",
        "\n",
        "\n",
        "\n",
        "\n",
        "\n",
        "\n",
        "\n",
        "\n",
        "\n",
        "\n",
        "\n",
        "\n",
        "\n",
        "\n",
        "\n",
        "\n",
        "\n",
        "\n",
        "\n",
        "\n",
        "\n",
        "\n",
        "\n",
        "\n",
        "\n",
        "\n",
        "\n",
        "\n",
        "\n",
        "\n",
        "\n",
        "\n",
        "\n",
        "\n",
        "\n",
        "\n",
        "\n",
        "\n",
        "\n",
        "\n",
        "\n",
        "\n",
        "\n",
        "#**– Introduction –**\n",
        "#Vision Zero Vehicle Crash/Collision Report\n",
        "* What is the goal of your project?\n",
        "* What are you investigating \n",
        "* Why is it important?\n",
        "\n",
        "**Vision Zero was first adopted by New York City in 2014.**\n",
        "\n",
        "\n",
        "Sweden first developed this strategy in the 1990’s. Vision Zero has been eliminating traffic fatalities and severe injuries across Europe while increasing safe, healthy, equitable mobility for all. After years of proved successful implementation across Europe major cities accross the Unitied States have started successfully utilizing these strategies.\n",
        "\n",
        "\n",
        "\n",
        "\n",
        "\n",
        "\n",
        "\n",
        "\n",
        "\n",
        "\n",
        "\n",
        "\n",
        "\n",
        "\n",
        "\n",
        "\n",
        "\n",
        "\n",
        "\n",
        "\n",
        "\n",
        "\n",
        "\n",
        "\n",
        "\n",
        "\n",
        "\n",
        "\n",
        "\n",
        "\n",
        "\n",
        "\n",
        "\n",
        "\n",
        "\n",
        "\n",
        "\n",
        "\n",
        "\n",
        "\n",
        "\n",
        "\n",
        "\n",
        "\n",
        "\n",
        "\n",
        "\n",
        "\n",
        "\n",
        "\n",
        "\n",
        "\n",
        "\n",
        "\n",
        "\n",
        "\n",
        "\n",
        "\n",
        "\n",
        "\n",
        "\n",
        "\n",
        "\n",
        "\n"
      ]
    },
    {
      "cell_type": "markdown",
      "metadata": {
        "id": "wcYRLrtNhkDh"
      },
      "source": [
        "\n",
        "##**– Data sources –**\n",
        "\n",
        "  * Data Provided by Police Department (NYPD) City of New York Open Data\n",
        "    * https://data.cityofnewyork.us/Public-Safety/Motor-Vehicle-Collisions-Person/f55k-p6yu\n",
        "    The Motor Vehicle Collisions person table contains details for people involved in the crash. Each row represents a person (driver,occupant,pedestrian,bicyclist,..) involved in a crash\n",
        "\n",
        "    The police report (MV104-AN) is required to be filled out for collisions where someone is injured or killed,or where there is at least $1000 worth of damage\n",
        "\n",
        "      * UPDATE:\n",
        "        * April 19,2022\n",
        "      * RECENT UPDATE: \n",
        "        * August 3,2022\n",
        "\n",
        "* INITIAL IMPORT FILE: \n",
        "    * Date range:  2012-07-01 00:00:00  -  2022-07-30 00:00:00      \n",
        "      * Rows:  4,757,334\n",
        "      * Columns:  21\n",
        "* AFTER UPDATE: \n",
        "    * Date range:  2012-07-01 00:00:00  -  2022-08-01 00:00:00\n",
        "      * Rows:  4,759,121\n",
        "      * Columns:  21"
      ]
    },
    {
      "cell_type": "markdown",
      "metadata": {
        "id": "9WlTRQ2Cy4UC"
      },
      "source": [
        "##**- DF totals -**"
      ]
    },
    {
      "cell_type": "markdown",
      "metadata": {
        "id": "JXkYQupLhqeH"
      },
      "source": [
        "* AFTER CLEANING: \n",
        "  * Date range:  2018-01-01 00:00:00  -  2022-08-01 00:00:00\n",
        "    * Rows:  4,288,654\n",
        "    * Columns:  15\n",
        "\n",
        "* CATEGORIES:   \n",
        " * Bicyclists:\n",
        "   * 2012-update on file\n",
        "       * Rows:  56,994\n",
        "       * Columns:  23\n",
        "   * 2018-update on file\n",
        "       * Rows:  29,681 \n",
        "       * Columns:  23\n",
        "   * 2018\n",
        "       * Rows:  6,052\n",
        "       * Columns:  23\n",
        "   * 2019\n",
        "       * Rows:  \n",
        "       * Columns:  \n",
        "   * 2020\n",
        "       * Rows:  \n",
        "       * Columns:  \n",
        "   * 2021\n",
        "       * Rows: \n",
        "       * Columns:  \n",
        "   * 2022-update on file\n",
        "       * Rows:  \n",
        "       * Columns:  \n",
        "---\n"
      ]
    },
    {
      "cell_type": "markdown",
      "metadata": {
        "id": "whPWY1BMh5cX"
      },
      "source": [
        "##**– Methodologies –**\n",
        "* Python libraries\n",
        "  *   pandas - Primary data structure library\n",
        "  *   numpy - Useful for scientific computing\n",
        "  *   matplotlib.pyplot - Useful for plotting and graphing\n",
        "  *   seaborn - Advanced plotting and graphing,built upon the matplotlib \n",
        "* data cleaning\n",
        "  *   Checking for duplicates,null values,missing or corrupt data\n",
        "  *   Dropping rows with missing values\n",
        "  *   Decriptives/Exploring\n",
        "  * Grouping and looking at the values according top Gender and Age. \n",
        "  *   Narrowing the PERSON_TYPE to Bicycling\n",
        "* transformations,etc.\n",
        "  *   Attempting to correct/replace/coerrce the Age values\n",
        "  *   Replacing missing values\n",
        "  *   Dropping columns\n",
        "  *   Creating New Date Columns\n",
        "  *   Converting date and time columns to to their specified data types\n",
        "  *   strftime() - datetime to string\n",
        "* types of visualizations\n",
        "  * plt\n",
        "    * barh\n",
        "    * plot.pie\n",
        "  * sns\n",
        "    * relplot\n",
        "    * subplots\n",
        "   * scatter plot\n",
        "   * FacetGrid,barplot\n",
        "\n",
        "\n",
        "\n",
        "> ***important notes:\n",
        "\n",
        ">>  After querying when to change age from float to an integer considering this is police data:\n",
        "\n",
        "\n",
        "\n",
        ">>>   \"Working on a project to evaluate under-aged drinking (from a legal standpoint)? Then you should use the rounded down int value (eg if legal age is 16 and a person is 15.9,legally they are 15 and therefore under-aged drinking)\" - https://stackoverflow.com/questions/67329095/when-should-you-convert-age-column-in-float-or-int\n",
        "\n"
      ]
    },
    {
      "cell_type": "markdown",
      "metadata": {
        "id": "7ZSFGPOzhMgv"
      },
      "source": [
        " >***FACTCHECK**\n",
        "This is an analysis of  Bicycists involved in collisions and or crashes These incidencts are classified by date and time resulting in a Unique ID,Collision ID assigned by the NYPD (City of New Yorks Department of Motor Vehicles). \n",
        "\n",
        " >Each year: list or show number of bicyclists are injured or killed,affected because of? Where they using safty equpment? FOR FUTURE ANALYSIS: *** fact check this\n",
        " Is Green Space and the Colaboration with CitiBike working? \n",
        " How are the areas affected being addressed? Are they? Do the areas coincide with the planned expansions of CitiBike? \n",
        " ecspecially in relation to the areas that citibike is expanding into. \n",
        " (FUTURE CONSIDERATION: need to cross compare analysis first to other collision and crash data['COLLISION_ID'] to get geolocation data. Compare in relation to Vision Zeros expansion and future projections. Then compare that to the to citibike expansion data.)\n",
        "\n",
        " Grab contributing factors and do and analysis on those also\n",
        "\n",
        "\n",
        "---\n",
        "\n",
        "\n"
      ]
    },
    {
      "cell_type": "markdown",
      "metadata": {
        "id": "qqma7UfciB9A"
      },
      "source": [
        "\n",
        "##**– Findings and conclusions –**\n",
        "\n",
        "* What did you learn from the data? \n",
        "* Person Injury:\n",
        ">>>Injured 22916\n",
        ">>>Unspecified 6664\n",
        ">>>Killed 101\n",
        "  * The peak hours of incidents involving bicyclists are during the late after noon to early evening. These times correspond to high traffic times.\n",
        "  * The warmer months are also showing that more accidents are happening between the months of May and October. \n",
        "    * June July and August holding the highest amounts of incidents.\n",
        "  * Men are more involved in the reported incidents. \n",
        "  * Most victims of the incidents are fully concious and survive\n",
        "\n",
        "* Was it what you expected?\n",
        "* That this would be a long mystery of figuring out coding,ploting along with applyig statistical and analytical thinking? As far as the data. I have yet to be able to know if my expectations that the city greenzoning has had a direct affect on Crashes involving biclyists. \n",
        "* Has NYC Vision zero made an impact on the safety of NYC? Further analysis will be needed. \n",
        "* What kind of recommendations can be presented to NYC to improve the program?\n",
        "Further analysis will be needed.\n",
        "* What seems to be working or not working?\n",
        "Further analysis will be needed.\n",
        "\n"
      ]
    },
    {
      "cell_type": "markdown",
      "metadata": {
        "id": "iLG9KWu4h1Md"
      },
      "source": [
        "#**Import libraries**"
      ]
    },
    {
      "cell_type": "code",
      "execution_count": 1,
      "metadata": {
        "id": "e_AIvcbzddPN"
      },
      "outputs": [],
      "source": [
        "#\n",
        "import pandas as pd#primary data structure library\n",
        "import numpy as np#useful for many scientific computing in Python\n",
        "import seaborn as sns#useful for plotting and graphing,built upon the matplotlib library.\n",
        "from seaborn.rcmod import axes_style\n",
        "import matplotlib as mpl\n",
        "import matplotlib.pyplot as plt\n",
        "import matplotlib.dates as mdates\n",
        "%matplotlib inline "
      ]
    },
    {
      "cell_type": "code",
      "execution_count": null,
      "metadata": {
        "id": "LBh5AhGxr7CT",
        "cellView": "form"
      },
      "outputs": [],
      "source": [
        "#\n",
        "from google.colab import drive\n",
        "drive.mount('/content/drive')"
      ]
    },
    {
      "cell_type": "code",
      "execution_count": 3,
      "metadata": {
        "id": "nFRNw3tJWiYa",
        "cellView": "form"
      },
      "outputs": [],
      "source": [
        "#\n",
        "#title@Motor_Vehicle_Collisions_-_Crashes.csv\n",
        "#Further consideration['COLLISION_ID']\n",
        "#vmcpu=pd.read_csv('/content/Motor_Vehicle_Collisions_-_Crashes.csv')\n",
        "#vmcpu=pd.read_csv('/content/drive/MyDrive/Capstone_python/csv_files/Motor_Vehicle_Collisions_Person_Update.csv')"
      ]
    },
    {
      "cell_type": "markdown",
      "metadata": {
        "id": "ZkPi9s7lzybR"
      },
      "source": [
        "#Exploring -Descriptives\n"
      ]
    },
    {
      "cell_type": "code",
      "execution_count": 4,
      "metadata": {
        "id": "NyG-Duahd-Cc",
        "cellView": "form"
      },
      "outputs": [],
      "source": [
        "#\n",
        "#title@Motor_Vehicle_Collisions_Person_Update=vmcpu\n",
        "#print('Rows,Columns:',vmcpu.shape)"
      ]
    },
    {
      "cell_type": "code",
      "execution_count": 5,
      "metadata": {
        "id": "_9vpriVRhAwM",
        "cellView": "form"
      },
      "outputs": [],
      "source": [
        "#\n",
        "#vmcpu.info()"
      ]
    },
    {
      "cell_type": "code",
      "execution_count": 6,
      "metadata": {
        "id": "D0bVSAQ-BOeT",
        "cellView": "form"
      },
      "outputs": [],
      "source": [
        "#\n",
        "#vmcpu.head()"
      ]
    },
    {
      "cell_type": "code",
      "execution_count": 7,
      "metadata": {
        "id": "rALpe1rShIeZ",
        "cellView": "form"
      },
      "outputs": [],
      "source": [
        "#\n",
        "#vmcpu.tail()"
      ]
    },
    {
      "cell_type": "markdown",
      "metadata": {
        "id": "aRQm4XQ00D6W"
      },
      "source": [
        "####Checking for null values\n"
      ]
    },
    {
      "cell_type": "code",
      "execution_count": 8,
      "metadata": {
        "id": "OYQiDGxw7FwJ",
        "cellView": "form"
      },
      "outputs": [],
      "source": [
        "#\n",
        "#title@Motor_Vehicle_Collisions_Person_Update=vmcpu\n",
        "#display counts of missing values with a summary list\n",
        "#vmcpu.isnull().sum()"
      ]
    },
    {
      "cell_type": "code",
      "source": [
        "#\n",
        "#vmcpu.isnull().sum().sum()"
      ],
      "metadata": {
        "id": "6Tg30m_m8_ph",
        "cellView": "form"
      },
      "execution_count": 9,
      "outputs": []
    },
    {
      "cell_type": "code",
      "execution_count": 10,
      "metadata": {
        "id": "i3D61A4i6Nuf",
        "cellView": "form"
      },
      "outputs": [],
      "source": [
        "#\n",
        "#title@Motor_Vehicle_Collisions_Person_Update=vmcpu\n",
        "#check missing values in different columns via heatmap?\n",
        "#the column of['PED_LOCATION','PED_ACTION','CONTRIBUTING_FACTOR_1','CONTRIBUTING_FACTOR_2'] mostly null values - new fields? -not being implemented?\n",
        "#sns.heatmap(vmcpu.isnull(),cbar=False) "
      ]
    },
    {
      "cell_type": "code",
      "execution_count": 11,
      "metadata": {
        "id": "Wv24E4DSCXON",
        "cellView": "form"
      },
      "outputs": [],
      "source": [
        "#\n",
        "#vmcpu.dtypes"
      ]
    },
    {
      "cell_type": "code",
      "source": [
        "#\n",
        "missing_values=['nan','-']\n",
        "vmcpu=pd.read_csv('/content/drive/MyDrive/Capstone_python/csv_files/Motor_Vehicle_Collisions_Person_Update.csv',na_values=missing_values)"
      ],
      "metadata": {
        "id": "-E3in96Z64vy",
        "cellView": "form"
      },
      "execution_count": 12,
      "outputs": []
    },
    {
      "cell_type": "code",
      "source": [
        "#\n",
        "vmcpu.isnull().sum().sum()"
      ],
      "metadata": {
        "id": "t7XOZ7i98PAN",
        "cellView": "form"
      },
      "execution_count": null,
      "outputs": []
    },
    {
      "cell_type": "markdown",
      "metadata": {
        "id": "AYtp5OH9g0fh"
      },
      "source": [
        "##Unique "
      ]
    },
    {
      "cell_type": "code",
      "execution_count": null,
      "metadata": {
        "id": "illqsBoDPmvn",
        "cellView": "form"
      },
      "outputs": [],
      "source": [
        "#\n",
        "#title@Motor_Vehicle_Collisions_Person_Update=vmcpu\n",
        "print('Columns:\\n',vmcpu.columns)"
      ]
    },
    {
      "cell_type": "code",
      "execution_count": null,
      "metadata": {
        "id": "s1V0yfxJygW0",
        "cellView": "form"
      },
      "outputs": [],
      "source": [
        "#\n",
        "print('Gender:\\n',vmcpu['PERSON_SEX'].unique())"
      ]
    },
    {
      "cell_type": "code",
      "execution_count": null,
      "metadata": {
        "id": "9jMtCzcPlHfJ",
        "cellView": "form"
      },
      "outputs": [],
      "source": [
        "#\n",
        "print('Person Type:\\n',vmcpu['PERSON_TYPE'].unique())"
      ]
    },
    {
      "cell_type": "code",
      "execution_count": null,
      "metadata": {
        "id": "a8hj2WfIzIuw",
        "cellView": "form"
      },
      "outputs": [],
      "source": [
        "#\n",
        "print('Emotional Status:\\n',vmcpu['EMOTIONAL_STATUS'].unique())"
      ]
    },
    {
      "cell_type": "code",
      "execution_count": null,
      "metadata": {
        "id": "wGgzhSNddVst",
        "cellView": "form"
      },
      "outputs": [],
      "source": [
        "#\n",
        "print('Bodily Injury:\\n',vmcpu['BODILY_INJURY'].unique())"
      ]
    },
    {
      "cell_type": "code",
      "execution_count": null,
      "metadata": {
        "id": "8KLtV_i3daFP",
        "cellView": "form"
      },
      "outputs": [],
      "source": [
        "#\n",
        "print('Person Injury:\\n',vmcpu['PERSON_INJURY'].unique())"
      ]
    },
    {
      "cell_type": "code",
      "execution_count": null,
      "metadata": {
        "id": "h85hVw59b2qe",
        "cellView": "form"
      },
      "outputs": [],
      "source": [
        "#\n",
        "print('Saftey Equipment:\\n',vmcpu['SAFETY_EQUIPMENT'].unique())"
      ]
    },
    {
      "cell_type": "code",
      "execution_count": null,
      "metadata": {
        "id": "wsWsuLY5IAt3",
        "cellView": "form"
      },
      "outputs": [],
      "source": [
        "#\n",
        "vmcpu.COLLISION_ID.is_unique"
      ]
    },
    {
      "cell_type": "code",
      "execution_count": null,
      "metadata": {
        "id": "JLHeP4diEy--",
        "cellView": "form"
      },
      "outputs": [],
      "source": [
        "#\n",
        "#INDEX?\n",
        "vmcpu.UNIQUE_ID.is_unique"
      ]
    },
    {
      "cell_type": "markdown",
      "metadata": {
        "id": "AGhdZFgFRCZ2"
      },
      "source": [
        "##**DataFrame** - Checking for,dropping duplicates if needed"
      ]
    },
    {
      "cell_type": "markdown",
      "metadata": {
        "id": "yF1-YxIUUesQ"
      },
      "source": [
        "###**DataFrame** - BUFFER -Selecting or dropped columns/ rows/ changing data types"
      ]
    },
    {
      "cell_type": "code",
      "execution_count": null,
      "metadata": {
        "id": "rWE8hszF6Mt2",
        "cellView": "form"
      },
      "outputs": [],
      "source": [
        "#\n",
        "#titleBUFFER@Motor_Vehicle_Collisions_Person_Update=vmcpub\n",
        "#drop duplicate data \n",
        "vmcpub=vmcpu.drop_duplicates()\n",
        "vmcpub.shape==vmcpu.shape  \n",
        "#vmcpu Rows,Columns: (4759121,21),no duplicate rows"
      ]
    },
    {
      "cell_type": "code",
      "execution_count": 24,
      "metadata": {
        "id": "S3t6O5QQGsFJ",
        "cellView": "form"
      },
      "outputs": [],
      "source": [
        "#\n",
        "vmcpub=pd.DataFrame(vmcpu)"
      ]
    },
    {
      "cell_type": "code",
      "execution_count": null,
      "metadata": {
        "id": "kJCUITNqPoBt",
        "cellView": "form"
      },
      "outputs": [],
      "source": [
        "#\n",
        "print('Rows:,Columns:',vmcpub.shape)"
      ]
    },
    {
      "cell_type": "code",
      "execution_count": null,
      "metadata": {
        "id": "LFokCFTDUcdW",
        "cellView": "form"
      },
      "outputs": [],
      "source": [
        "#\n",
        "print(vmcpub['PERSON_AGE'].value_counts())"
      ]
    },
    {
      "cell_type": "code",
      "execution_count": null,
      "metadata": {
        "id": "XfmV2a9qU6fJ",
        "cellView": "form"
      },
      "outputs": [],
      "source": [
        "#\n",
        "vmcpub.PERSON_AGE.isnull().sum()"
      ]
    },
    {
      "cell_type": "markdown",
      "metadata": {
        "id": "WdaqCrKqBg5c"
      },
      "source": [
        "###**Cleaning**"
      ]
    },
    {
      "cell_type": "code",
      "execution_count": null,
      "metadata": {
        "id": "FugcPUXXo8nv",
        "cellView": "form"
      },
      "outputs": [],
      "source": [
        "#\n",
        "vmcpub.shape"
      ]
    },
    {
      "cell_type": "code",
      "execution_count": 29,
      "metadata": {
        "id": "C1q03Or2JrOn",
        "colab": {
          "base_uri": "https://localhost:8080/"
        },
        "outputId": "2f3885a5-f283-4c42-ba1a-afec6fe2a741",
        "cellView": "form"
      },
      "outputs": [
        {
          "output_type": "execute_result",
          "data": {
            "text/plain": [
              "Index(['UNIQUE_ID', 'COLLISION_ID', 'CRASH_DATE', 'CRASH_TIME', 'PERSON_ID',\n",
              "       'PERSON_TYPE', 'PERSON_INJURY', 'VEHICLE_ID', 'PERSON_AGE', 'EJECTION',\n",
              "       'EMOTIONAL_STATUS', 'BODILY_INJURY', 'POSITION_IN_VEHICLE',\n",
              "       'SAFETY_EQUIPMENT', 'PED_LOCATION', 'PED_ACTION', 'COMPLAINT',\n",
              "       'PED_ROLE', 'CONTRIBUTING_FACTOR_1', 'CONTRIBUTING_FACTOR_2',\n",
              "       'PERSON_SEX'],\n",
              "      dtype='object')"
            ]
          },
          "metadata": {},
          "execution_count": 29
        }
      ],
      "source": [
        "#\n",
        "vmcpub.columns"
      ]
    },
    {
      "cell_type": "markdown",
      "metadata": {
        "id": "vCvhr8eF1IGB"
      },
      "source": [
        "####ilocate  (find use for you )"
      ]
    },
    {
      "cell_type": "code",
      "execution_count": 30,
      "metadata": {
        "id": "glzQgBz2U4pu",
        "cellView": "form"
      },
      "outputs": [],
      "source": [
        "#\n",
        "#vmcpub.iloc[155:160,5:6]"
      ]
    },
    {
      "cell_type": "code",
      "execution_count": 31,
      "metadata": {
        "id": "1b6gCWiN1Hi1",
        "cellView": "form"
      },
      "outputs": [],
      "source": [
        "#\n",
        "#vmcpub.iloc[11:15]"
      ]
    },
    {
      "cell_type": "markdown",
      "metadata": {
        "id": "WaZJonQEa82j"
      },
      "source": [
        "####OMMITTING Renaming columns for visualizations"
      ]
    },
    {
      "cell_type": "code",
      "execution_count": 32,
      "metadata": {
        "id": "gEpuZybZ_roh",
        "cellView": "form",
        "colab": {
          "base_uri": "https://localhost:8080/"
        },
        "outputId": "d74a7f99-3862-4c97-eca9-998df65c32e9"
      },
      "outputs": [
        {
          "output_type": "execute_result",
          "data": {
            "text/plain": [
              "Index(['UNIQUE_ID', 'COLLISION_ID', 'CRASH_DATE', 'CRASH_TIME', 'PERSON_ID',\n",
              "       'PERSON_TYPE', 'PERSON_INJURY', 'VEHICLE_ID', 'PERSON_AGE', 'EJECTION',\n",
              "       'EMOTIONAL_STATUS', 'BODILY_INJURY', 'POSITION_IN_VEHICLE',\n",
              "       'SAFETY_EQUIPMENT', 'PED_LOCATION', 'PED_ACTION', 'COMPLAINT',\n",
              "       'PED_ROLE', 'CONTRIBUTING_FACTOR_1', 'CONTRIBUTING_FACTOR_2',\n",
              "       'PERSON_SEX'],\n",
              "      dtype='object')"
            ]
          },
          "metadata": {},
          "execution_count": 32
        }
      ],
      "source": [
        "#\n",
        "#For reference\n",
        "vmcpub.columns"
      ]
    },
    {
      "cell_type": "markdown",
      "metadata": {
        "id": "HZN8gjhNlFbv"
      },
      "source": [
        "####Dropping columns"
      ]
    },
    {
      "cell_type": "code",
      "execution_count": 33,
      "metadata": {
        "id": "DBe3MiSNn-d9",
        "cellView": "form"
      },
      "outputs": [],
      "source": [
        "#\n",
        "drop_cols=['PED_LOCATION','PED_ACTION','CONTRIBUTING_FACTOR_1','CONTRIBUTING_FACTOR_2','PERSON_ID','VEHICLE_ID']\n",
        "vmcpub.drop(drop_cols,inplace=True,axis=1)"
      ]
    },
    {
      "cell_type": "code",
      "execution_count": 34,
      "metadata": {
        "id": "TuQCXC2KG_EP",
        "colab": {
          "base_uri": "https://localhost:8080/"
        },
        "outputId": "54b9a0c1-f45c-46e0-f8f9-eb990ce905dd",
        "cellView": "form"
      },
      "outputs": [
        {
          "output_type": "execute_result",
          "data": {
            "text/plain": [
              "(4759121, 15)"
            ]
          },
          "metadata": {},
          "execution_count": 34
        }
      ],
      "source": [
        "#\n",
        "vmcpub.shape"
      ]
    },
    {
      "cell_type": "code",
      "execution_count": 35,
      "metadata": {
        "id": "AxLauDL2EsDn",
        "colab": {
          "base_uri": "https://localhost:8080/",
          "height": 211
        },
        "outputId": "2cf7df1e-3b91-4f5c-b803-e0bbb08f91f8",
        "cellView": "form"
      },
      "outputs": [
        {
          "output_type": "execute_result",
          "data": {
            "text/plain": [
              "   UNIQUE_ID  COLLISION_ID  CRASH_DATE CRASH_TIME PERSON_TYPE PERSON_INJURY  \\\n",
              "0   10249006       4229554  10/26/2019       9:43    Occupant   Unspecified   \n",
              "1   10255054       4230587  10/25/2019      15:15    Occupant   Unspecified   \n",
              "\n",
              "   PERSON_AGE     EJECTION EMOTIONAL_STATUS   BODILY_INJURY  \\\n",
              "0         NaN          NaN              NaN             NaN   \n",
              "1        33.0  Not Ejected   Does Not Apply  Does Not Apply   \n",
              "\n",
              "                                 POSITION_IN_VEHICLE    SAFETY_EQUIPMENT  \\\n",
              "0                                                NaN                 NaN   \n",
              "1  Front passenger, if two or more persons, inclu...  Lap Belt & Harness   \n",
              "\n",
              "        COMPLAINT    PED_ROLE PERSON_SEX  \n",
              "0             NaN  Registrant          U  \n",
              "1  Does Not Apply   Passenger          F  "
            ],
            "text/html": [
              "\n",
              "  <div id=\"df-025042df-d110-44f1-afb5-4cd8e2375330\">\n",
              "    <div class=\"colab-df-container\">\n",
              "      <div>\n",
              "<style scoped>\n",
              "    .dataframe tbody tr th:only-of-type {\n",
              "        vertical-align: middle;\n",
              "    }\n",
              "\n",
              "    .dataframe tbody tr th {\n",
              "        vertical-align: top;\n",
              "    }\n",
              "\n",
              "    .dataframe thead th {\n",
              "        text-align: right;\n",
              "    }\n",
              "</style>\n",
              "<table border=\"1\" class=\"dataframe\">\n",
              "  <thead>\n",
              "    <tr style=\"text-align: right;\">\n",
              "      <th></th>\n",
              "      <th>UNIQUE_ID</th>\n",
              "      <th>COLLISION_ID</th>\n",
              "      <th>CRASH_DATE</th>\n",
              "      <th>CRASH_TIME</th>\n",
              "      <th>PERSON_TYPE</th>\n",
              "      <th>PERSON_INJURY</th>\n",
              "      <th>PERSON_AGE</th>\n",
              "      <th>EJECTION</th>\n",
              "      <th>EMOTIONAL_STATUS</th>\n",
              "      <th>BODILY_INJURY</th>\n",
              "      <th>POSITION_IN_VEHICLE</th>\n",
              "      <th>SAFETY_EQUIPMENT</th>\n",
              "      <th>COMPLAINT</th>\n",
              "      <th>PED_ROLE</th>\n",
              "      <th>PERSON_SEX</th>\n",
              "    </tr>\n",
              "  </thead>\n",
              "  <tbody>\n",
              "    <tr>\n",
              "      <th>0</th>\n",
              "      <td>10249006</td>\n",
              "      <td>4229554</td>\n",
              "      <td>10/26/2019</td>\n",
              "      <td>9:43</td>\n",
              "      <td>Occupant</td>\n",
              "      <td>Unspecified</td>\n",
              "      <td>NaN</td>\n",
              "      <td>NaN</td>\n",
              "      <td>NaN</td>\n",
              "      <td>NaN</td>\n",
              "      <td>NaN</td>\n",
              "      <td>NaN</td>\n",
              "      <td>NaN</td>\n",
              "      <td>Registrant</td>\n",
              "      <td>U</td>\n",
              "    </tr>\n",
              "    <tr>\n",
              "      <th>1</th>\n",
              "      <td>10255054</td>\n",
              "      <td>4230587</td>\n",
              "      <td>10/25/2019</td>\n",
              "      <td>15:15</td>\n",
              "      <td>Occupant</td>\n",
              "      <td>Unspecified</td>\n",
              "      <td>33.0</td>\n",
              "      <td>Not Ejected</td>\n",
              "      <td>Does Not Apply</td>\n",
              "      <td>Does Not Apply</td>\n",
              "      <td>Front passenger, if two or more persons, inclu...</td>\n",
              "      <td>Lap Belt &amp; Harness</td>\n",
              "      <td>Does Not Apply</td>\n",
              "      <td>Passenger</td>\n",
              "      <td>F</td>\n",
              "    </tr>\n",
              "  </tbody>\n",
              "</table>\n",
              "</div>\n",
              "      <button class=\"colab-df-convert\" onclick=\"convertToInteractive('df-025042df-d110-44f1-afb5-4cd8e2375330')\"\n",
              "              title=\"Convert this dataframe to an interactive table.\"\n",
              "              style=\"display:none;\">\n",
              "        \n",
              "  <svg xmlns=\"http://www.w3.org/2000/svg\" height=\"24px\"viewBox=\"0 0 24 24\"\n",
              "       width=\"24px\">\n",
              "    <path d=\"M0 0h24v24H0V0z\" fill=\"none\"/>\n",
              "    <path d=\"M18.56 5.44l.94 2.06.94-2.06 2.06-.94-2.06-.94-.94-2.06-.94 2.06-2.06.94zm-11 1L8.5 8.5l.94-2.06 2.06-.94-2.06-.94L8.5 2.5l-.94 2.06-2.06.94zm10 10l.94 2.06.94-2.06 2.06-.94-2.06-.94-.94-2.06-.94 2.06-2.06.94z\"/><path d=\"M17.41 7.96l-1.37-1.37c-.4-.4-.92-.59-1.43-.59-.52 0-1.04.2-1.43.59L10.3 9.45l-7.72 7.72c-.78.78-.78 2.05 0 2.83L4 21.41c.39.39.9.59 1.41.59.51 0 1.02-.2 1.41-.59l7.78-7.78 2.81-2.81c.8-.78.8-2.07 0-2.86zM5.41 20L4 18.59l7.72-7.72 1.47 1.35L5.41 20z\"/>\n",
              "  </svg>\n",
              "      </button>\n",
              "      \n",
              "  <style>\n",
              "    .colab-df-container {\n",
              "      display:flex;\n",
              "      flex-wrap:wrap;\n",
              "      gap: 12px;\n",
              "    }\n",
              "\n",
              "    .colab-df-convert {\n",
              "      background-color: #E8F0FE;\n",
              "      border: none;\n",
              "      border-radius: 50%;\n",
              "      cursor: pointer;\n",
              "      display: none;\n",
              "      fill: #1967D2;\n",
              "      height: 32px;\n",
              "      padding: 0 0 0 0;\n",
              "      width: 32px;\n",
              "    }\n",
              "\n",
              "    .colab-df-convert:hover {\n",
              "      background-color: #E2EBFA;\n",
              "      box-shadow: 0px 1px 2px rgba(60, 64, 67, 0.3), 0px 1px 3px 1px rgba(60, 64, 67, 0.15);\n",
              "      fill: #174EA6;\n",
              "    }\n",
              "\n",
              "    [theme=dark] .colab-df-convert {\n",
              "      background-color: #3B4455;\n",
              "      fill: #D2E3FC;\n",
              "    }\n",
              "\n",
              "    [theme=dark] .colab-df-convert:hover {\n",
              "      background-color: #434B5C;\n",
              "      box-shadow: 0px 1px 3px 1px rgba(0, 0, 0, 0.15);\n",
              "      filter: drop-shadow(0px 1px 2px rgba(0, 0, 0, 0.3));\n",
              "      fill: #FFFFFF;\n",
              "    }\n",
              "  </style>\n",
              "\n",
              "      <script>\n",
              "        const buttonEl =\n",
              "          document.querySelector('#df-025042df-d110-44f1-afb5-4cd8e2375330 button.colab-df-convert');\n",
              "        buttonEl.style.display =\n",
              "          google.colab.kernel.accessAllowed ? 'block' : 'none';\n",
              "\n",
              "        async function convertToInteractive(key) {\n",
              "          const element = document.querySelector('#df-025042df-d110-44f1-afb5-4cd8e2375330');\n",
              "          const dataTable =\n",
              "            await google.colab.kernel.invokeFunction('convertToInteractive',\n",
              "                                                     [key], {});\n",
              "          if (!dataTable) return;\n",
              "\n",
              "          const docLinkHtml = 'Like what you see? Visit the ' +\n",
              "            '<a target=\"_blank\" href=https://colab.research.google.com/notebooks/data_table.ipynb>data table notebook</a>'\n",
              "            + ' to learn more about interactive tables.';\n",
              "          element.innerHTML = '';\n",
              "          dataTable['output_type'] = 'display_data';\n",
              "          await google.colab.output.renderOutput(dataTable, element);\n",
              "          const docLink = document.createElement('div');\n",
              "          docLink.innerHTML = docLinkHtml;\n",
              "          element.appendChild(docLink);\n",
              "        }\n",
              "      </script>\n",
              "    </div>\n",
              "  </div>\n",
              "  "
            ]
          },
          "metadata": {},
          "execution_count": 35
        }
      ],
      "source": [
        "#\n",
        "vmcpub.head(2)"
      ]
    },
    {
      "cell_type": "code",
      "execution_count": 36,
      "metadata": {
        "id": "uJpKgotNkB-B",
        "colab": {
          "base_uri": "https://localhost:8080/"
        },
        "outputId": "b96baf39-1a67-458f-b508-437afa614dbf",
        "cellView": "form"
      },
      "outputs": [
        {
          "output_type": "stream",
          "name": "stdout",
          "text": [
            "Index(['UNIQUE_ID', 'COLLISION_ID', 'CRASH_DATE', 'CRASH_TIME', 'PERSON_TYPE',\n",
            "       'PERSON_INJURY', 'PERSON_AGE', 'EJECTION', 'EMOTIONAL_STATUS',\n",
            "       'BODILY_INJURY', 'POSITION_IN_VEHICLE', 'SAFETY_EQUIPMENT', 'COMPLAINT',\n",
            "       'PED_ROLE', 'PERSON_SEX'],\n",
            "      dtype='object')\n"
          ]
        }
      ],
      "source": [
        "#\n",
        "print(vmcpub.columns)"
      ]
    },
    {
      "cell_type": "markdown",
      "metadata": {
        "id": "5W1c2AG0ojf5"
      },
      "source": [
        "#Categorized"
      ]
    },
    {
      "cell_type": "markdown",
      "metadata": {
        "id": "TGEjTrYCJxhp"
      },
      "source": [
        "#**DataFrame** -BICYCLIST Category 07/2012-2022-update on file"
      ]
    },
    {
      "cell_type": "markdown",
      "metadata": {
        "id": "j3KfrWVfLa12"
      },
      "source": [
        "##**DataFrame** 07/2012-2022-update on file"
      ]
    },
    {
      "cell_type": "code",
      "execution_count": 37,
      "metadata": {
        "id": "wIzCQEidR0hO",
        "cellView": "form"
      },
      "outputs": [],
      "source": [
        "#\n",
        "#Motor_Vehicle_Collisions_BICYCLIST_Update=vmvbu\n",
        "vmvbu=pd.DataFrame(vmcpub)"
      ]
    },
    {
      "cell_type": "code",
      "execution_count": 38,
      "metadata": {
        "id": "1KqtuOWuZpl6",
        "cellView": "form"
      },
      "outputs": [],
      "source": [
        "#\n",
        "biclycle_a=vmvbu[(vmvbu['PERSON_TYPE']=='Occupant') | (vmvbu['PERSON_TYPE']=='Pedestrian') | (vmvbu['PERSON_TYPE']=='Other Motorized')].index\n",
        "vmvbu.drop(biclycle_a,inplace=True)\n",
        "   #WHY DOESNT THIS WORK???\n",
        "      #biclycle_a=vmvbu[(vmvbu['PERSON_TYPE']=='^(?!Bicyclist$).*')].index"
      ]
    },
    {
      "cell_type": "markdown",
      "metadata": {
        "id": "jxQyekAvctr1"
      },
      "source": [
        "###Descriptives"
      ]
    },
    {
      "cell_type": "code",
      "execution_count": 39,
      "metadata": {
        "colab": {
          "base_uri": "https://localhost:8080/"
        },
        "id": "l62k5W2xIo31",
        "outputId": "5ece7a70-5e22-41d8-e808-479761037196",
        "cellView": "form"
      },
      "outputs": [
        {
          "output_type": "stream",
          "name": "stdout",
          "text": [
            "Bicyclists Involved in CollisionS 2012-2022 info:\n",
            "Rows,Columns:\n",
            " (56994, 15)\n"
          ]
        }
      ],
      "source": [
        "#\n",
        "print('Bicyclists Involved in CollisionS 2012-2022 info:\\nRows,Columns:\\n',vmvbu.shape)"
      ]
    },
    {
      "cell_type": "code",
      "execution_count": 40,
      "metadata": {
        "colab": {
          "base_uri": "https://localhost:8080/"
        },
        "id": "epPfXcvw7f4m",
        "outputId": "0622f7f5-ca85-44a5-b835-c2994a55f20d",
        "cellView": "form"
      },
      "outputs": [
        {
          "output_type": "stream",
          "name": "stdout",
          "text": [
            "<class 'pandas.core.frame.DataFrame'>\n",
            "Int64Index: 56994 entries, 18 to 4759099\n",
            "Data columns (total 15 columns):\n",
            " #   Column               Non-Null Count  Dtype  \n",
            "---  ------               --------------  -----  \n",
            " 0   UNIQUE_ID            56994 non-null  int64  \n",
            " 1   COLLISION_ID         56994 non-null  int64  \n",
            " 2   CRASH_DATE           56994 non-null  object \n",
            " 3   CRASH_TIME           56994 non-null  object \n",
            " 4   PERSON_TYPE          56994 non-null  object \n",
            " 5   PERSON_INJURY        56994 non-null  object \n",
            " 6   PERSON_AGE           56842 non-null  float64\n",
            " 7   EJECTION             41912 non-null  object \n",
            " 8   EMOTIONAL_STATUS     41915 non-null  object \n",
            " 9   BODILY_INJURY        41915 non-null  object \n",
            " 10  POSITION_IN_VEHICLE  41914 non-null  object \n",
            " 11  SAFETY_EQUIPMENT     41668 non-null  object \n",
            " 12  COMPLAINT            41915 non-null  object \n",
            " 13  PED_ROLE             41917 non-null  object \n",
            " 14  PERSON_SEX           41915 non-null  object \n",
            "dtypes: float64(1), int64(2), object(12)\n",
            "memory usage: 7.0+ MB\n"
          ]
        }
      ],
      "source": [
        "#\n",
        "vmvbu.info()"
      ]
    },
    {
      "cell_type": "code",
      "execution_count": 41,
      "metadata": {
        "colab": {
          "base_uri": "https://localhost:8080/",
          "height": 211
        },
        "id": "TpIT2M8_vQvV",
        "outputId": "7b26a8a3-a422-4f15-ae76-1ed65ebe6b9f",
        "cellView": "form"
      },
      "outputs": [
        {
          "output_type": "execute_result",
          "data": {
            "text/plain": [
              "    UNIQUE_ID  COLLISION_ID  CRASH_DATE CRASH_TIME PERSON_TYPE PERSON_INJURY  \\\n",
              "18   10254556       4230715  10/26/2019       8:50   Bicyclist       Injured   \n",
              "31   10250834       4230376  10/26/2019      19:40   Bicyclist       Injured   \n",
              "\n",
              "    PERSON_AGE     EJECTION EMOTIONAL_STATUS        BODILY_INJURY  \\\n",
              "18        42.0  Not Ejected          Unknown  Knee-Lower Leg Foot   \n",
              "31        36.0  Not Ejected        Conscious                 Back   \n",
              "\n",
              "   POSITION_IN_VEHICLE SAFETY_EQUIPMENT     COMPLAINT PED_ROLE PERSON_SEX  \n",
              "18              Driver          Unknown  None Visible   Driver          M  \n",
              "31              Driver             None      Internal   Driver          M  "
            ],
            "text/html": [
              "\n",
              "  <div id=\"df-1dc5dced-faed-46bb-bd6d-963cb204c1d9\">\n",
              "    <div class=\"colab-df-container\">\n",
              "      <div>\n",
              "<style scoped>\n",
              "    .dataframe tbody tr th:only-of-type {\n",
              "        vertical-align: middle;\n",
              "    }\n",
              "\n",
              "    .dataframe tbody tr th {\n",
              "        vertical-align: top;\n",
              "    }\n",
              "\n",
              "    .dataframe thead th {\n",
              "        text-align: right;\n",
              "    }\n",
              "</style>\n",
              "<table border=\"1\" class=\"dataframe\">\n",
              "  <thead>\n",
              "    <tr style=\"text-align: right;\">\n",
              "      <th></th>\n",
              "      <th>UNIQUE_ID</th>\n",
              "      <th>COLLISION_ID</th>\n",
              "      <th>CRASH_DATE</th>\n",
              "      <th>CRASH_TIME</th>\n",
              "      <th>PERSON_TYPE</th>\n",
              "      <th>PERSON_INJURY</th>\n",
              "      <th>PERSON_AGE</th>\n",
              "      <th>EJECTION</th>\n",
              "      <th>EMOTIONAL_STATUS</th>\n",
              "      <th>BODILY_INJURY</th>\n",
              "      <th>POSITION_IN_VEHICLE</th>\n",
              "      <th>SAFETY_EQUIPMENT</th>\n",
              "      <th>COMPLAINT</th>\n",
              "      <th>PED_ROLE</th>\n",
              "      <th>PERSON_SEX</th>\n",
              "    </tr>\n",
              "  </thead>\n",
              "  <tbody>\n",
              "    <tr>\n",
              "      <th>18</th>\n",
              "      <td>10254556</td>\n",
              "      <td>4230715</td>\n",
              "      <td>10/26/2019</td>\n",
              "      <td>8:50</td>\n",
              "      <td>Bicyclist</td>\n",
              "      <td>Injured</td>\n",
              "      <td>42.0</td>\n",
              "      <td>Not Ejected</td>\n",
              "      <td>Unknown</td>\n",
              "      <td>Knee-Lower Leg Foot</td>\n",
              "      <td>Driver</td>\n",
              "      <td>Unknown</td>\n",
              "      <td>None Visible</td>\n",
              "      <td>Driver</td>\n",
              "      <td>M</td>\n",
              "    </tr>\n",
              "    <tr>\n",
              "      <th>31</th>\n",
              "      <td>10250834</td>\n",
              "      <td>4230376</td>\n",
              "      <td>10/26/2019</td>\n",
              "      <td>19:40</td>\n",
              "      <td>Bicyclist</td>\n",
              "      <td>Injured</td>\n",
              "      <td>36.0</td>\n",
              "      <td>Not Ejected</td>\n",
              "      <td>Conscious</td>\n",
              "      <td>Back</td>\n",
              "      <td>Driver</td>\n",
              "      <td>None</td>\n",
              "      <td>Internal</td>\n",
              "      <td>Driver</td>\n",
              "      <td>M</td>\n",
              "    </tr>\n",
              "  </tbody>\n",
              "</table>\n",
              "</div>\n",
              "      <button class=\"colab-df-convert\" onclick=\"convertToInteractive('df-1dc5dced-faed-46bb-bd6d-963cb204c1d9')\"\n",
              "              title=\"Convert this dataframe to an interactive table.\"\n",
              "              style=\"display:none;\">\n",
              "        \n",
              "  <svg xmlns=\"http://www.w3.org/2000/svg\" height=\"24px\"viewBox=\"0 0 24 24\"\n",
              "       width=\"24px\">\n",
              "    <path d=\"M0 0h24v24H0V0z\" fill=\"none\"/>\n",
              "    <path d=\"M18.56 5.44l.94 2.06.94-2.06 2.06-.94-2.06-.94-.94-2.06-.94 2.06-2.06.94zm-11 1L8.5 8.5l.94-2.06 2.06-.94-2.06-.94L8.5 2.5l-.94 2.06-2.06.94zm10 10l.94 2.06.94-2.06 2.06-.94-2.06-.94-.94-2.06-.94 2.06-2.06.94z\"/><path d=\"M17.41 7.96l-1.37-1.37c-.4-.4-.92-.59-1.43-.59-.52 0-1.04.2-1.43.59L10.3 9.45l-7.72 7.72c-.78.78-.78 2.05 0 2.83L4 21.41c.39.39.9.59 1.41.59.51 0 1.02-.2 1.41-.59l7.78-7.78 2.81-2.81c.8-.78.8-2.07 0-2.86zM5.41 20L4 18.59l7.72-7.72 1.47 1.35L5.41 20z\"/>\n",
              "  </svg>\n",
              "      </button>\n",
              "      \n",
              "  <style>\n",
              "    .colab-df-container {\n",
              "      display:flex;\n",
              "      flex-wrap:wrap;\n",
              "      gap: 12px;\n",
              "    }\n",
              "\n",
              "    .colab-df-convert {\n",
              "      background-color: #E8F0FE;\n",
              "      border: none;\n",
              "      border-radius: 50%;\n",
              "      cursor: pointer;\n",
              "      display: none;\n",
              "      fill: #1967D2;\n",
              "      height: 32px;\n",
              "      padding: 0 0 0 0;\n",
              "      width: 32px;\n",
              "    }\n",
              "\n",
              "    .colab-df-convert:hover {\n",
              "      background-color: #E2EBFA;\n",
              "      box-shadow: 0px 1px 2px rgba(60, 64, 67, 0.3), 0px 1px 3px 1px rgba(60, 64, 67, 0.15);\n",
              "      fill: #174EA6;\n",
              "    }\n",
              "\n",
              "    [theme=dark] .colab-df-convert {\n",
              "      background-color: #3B4455;\n",
              "      fill: #D2E3FC;\n",
              "    }\n",
              "\n",
              "    [theme=dark] .colab-df-convert:hover {\n",
              "      background-color: #434B5C;\n",
              "      box-shadow: 0px 1px 3px 1px rgba(0, 0, 0, 0.15);\n",
              "      filter: drop-shadow(0px 1px 2px rgba(0, 0, 0, 0.3));\n",
              "      fill: #FFFFFF;\n",
              "    }\n",
              "  </style>\n",
              "\n",
              "      <script>\n",
              "        const buttonEl =\n",
              "          document.querySelector('#df-1dc5dced-faed-46bb-bd6d-963cb204c1d9 button.colab-df-convert');\n",
              "        buttonEl.style.display =\n",
              "          google.colab.kernel.accessAllowed ? 'block' : 'none';\n",
              "\n",
              "        async function convertToInteractive(key) {\n",
              "          const element = document.querySelector('#df-1dc5dced-faed-46bb-bd6d-963cb204c1d9');\n",
              "          const dataTable =\n",
              "            await google.colab.kernel.invokeFunction('convertToInteractive',\n",
              "                                                     [key], {});\n",
              "          if (!dataTable) return;\n",
              "\n",
              "          const docLinkHtml = 'Like what you see? Visit the ' +\n",
              "            '<a target=\"_blank\" href=https://colab.research.google.com/notebooks/data_table.ipynb>data table notebook</a>'\n",
              "            + ' to learn more about interactive tables.';\n",
              "          element.innerHTML = '';\n",
              "          dataTable['output_type'] = 'display_data';\n",
              "          await google.colab.output.renderOutput(dataTable, element);\n",
              "          const docLink = document.createElement('div');\n",
              "          docLink.innerHTML = docLinkHtml;\n",
              "          element.appendChild(docLink);\n",
              "        }\n",
              "      </script>\n",
              "    </div>\n",
              "  </div>\n",
              "  "
            ]
          },
          "metadata": {},
          "execution_count": 41
        }
      ],
      "source": [
        "#\n",
        "vmvbu.head(2)"
      ]
    },
    {
      "cell_type": "code",
      "execution_count": 42,
      "metadata": {
        "colab": {
          "base_uri": "https://localhost:8080/",
          "height": 228
        },
        "id": "EBkq5zkdvWMN",
        "outputId": "231a746d-32e1-4fc0-f1ab-10ac04e857b9",
        "cellView": "form"
      },
      "outputs": [
        {
          "output_type": "execute_result",
          "data": {
            "text/plain": [
              "         UNIQUE_ID  COLLISION_ID  CRASH_DATE CRASH_TIME PERSON_TYPE  \\\n",
              "4759051   12236882       4532393  05/29/2022      18:51   Bicyclist   \n",
              "4759099   12236218       4532289  05/29/2022       9:00   Bicyclist   \n",
              "\n",
              "        PERSON_INJURY  PERSON_AGE     EJECTION EMOTIONAL_STATUS  \\\n",
              "4759051   Unspecified        36.0  Not Ejected   Does Not Apply   \n",
              "4759099       Injured        38.0  Not Ejected        Conscious   \n",
              "\n",
              "          BODILY_INJURY POSITION_IN_VEHICLE  \\\n",
              "4759051  Does Not Apply              Driver   \n",
              "4759099   Hip-Upper Leg              Driver   \n",
              "\n",
              "                               SAFETY_EQUIPMENT                    COMPLAINT  \\\n",
              "4759051                                 Unknown               Does Not Apply   \n",
              "4759099  Helmet Only (In-Line Skater/Bicyclist)  Complaint of Pain or Nausea   \n",
              "\n",
              "        PED_ROLE PERSON_SEX  \n",
              "4759051   Driver          F  \n",
              "4759099   Driver          M  "
            ],
            "text/html": [
              "\n",
              "  <div id=\"df-8b156d5c-577d-4ab4-98e2-e78f4461300f\">\n",
              "    <div class=\"colab-df-container\">\n",
              "      <div>\n",
              "<style scoped>\n",
              "    .dataframe tbody tr th:only-of-type {\n",
              "        vertical-align: middle;\n",
              "    }\n",
              "\n",
              "    .dataframe tbody tr th {\n",
              "        vertical-align: top;\n",
              "    }\n",
              "\n",
              "    .dataframe thead th {\n",
              "        text-align: right;\n",
              "    }\n",
              "</style>\n",
              "<table border=\"1\" class=\"dataframe\">\n",
              "  <thead>\n",
              "    <tr style=\"text-align: right;\">\n",
              "      <th></th>\n",
              "      <th>UNIQUE_ID</th>\n",
              "      <th>COLLISION_ID</th>\n",
              "      <th>CRASH_DATE</th>\n",
              "      <th>CRASH_TIME</th>\n",
              "      <th>PERSON_TYPE</th>\n",
              "      <th>PERSON_INJURY</th>\n",
              "      <th>PERSON_AGE</th>\n",
              "      <th>EJECTION</th>\n",
              "      <th>EMOTIONAL_STATUS</th>\n",
              "      <th>BODILY_INJURY</th>\n",
              "      <th>POSITION_IN_VEHICLE</th>\n",
              "      <th>SAFETY_EQUIPMENT</th>\n",
              "      <th>COMPLAINT</th>\n",
              "      <th>PED_ROLE</th>\n",
              "      <th>PERSON_SEX</th>\n",
              "    </tr>\n",
              "  </thead>\n",
              "  <tbody>\n",
              "    <tr>\n",
              "      <th>4759051</th>\n",
              "      <td>12236882</td>\n",
              "      <td>4532393</td>\n",
              "      <td>05/29/2022</td>\n",
              "      <td>18:51</td>\n",
              "      <td>Bicyclist</td>\n",
              "      <td>Unspecified</td>\n",
              "      <td>36.0</td>\n",
              "      <td>Not Ejected</td>\n",
              "      <td>Does Not Apply</td>\n",
              "      <td>Does Not Apply</td>\n",
              "      <td>Driver</td>\n",
              "      <td>Unknown</td>\n",
              "      <td>Does Not Apply</td>\n",
              "      <td>Driver</td>\n",
              "      <td>F</td>\n",
              "    </tr>\n",
              "    <tr>\n",
              "      <th>4759099</th>\n",
              "      <td>12236218</td>\n",
              "      <td>4532289</td>\n",
              "      <td>05/29/2022</td>\n",
              "      <td>9:00</td>\n",
              "      <td>Bicyclist</td>\n",
              "      <td>Injured</td>\n",
              "      <td>38.0</td>\n",
              "      <td>Not Ejected</td>\n",
              "      <td>Conscious</td>\n",
              "      <td>Hip-Upper Leg</td>\n",
              "      <td>Driver</td>\n",
              "      <td>Helmet Only (In-Line Skater/Bicyclist)</td>\n",
              "      <td>Complaint of Pain or Nausea</td>\n",
              "      <td>Driver</td>\n",
              "      <td>M</td>\n",
              "    </tr>\n",
              "  </tbody>\n",
              "</table>\n",
              "</div>\n",
              "      <button class=\"colab-df-convert\" onclick=\"convertToInteractive('df-8b156d5c-577d-4ab4-98e2-e78f4461300f')\"\n",
              "              title=\"Convert this dataframe to an interactive table.\"\n",
              "              style=\"display:none;\">\n",
              "        \n",
              "  <svg xmlns=\"http://www.w3.org/2000/svg\" height=\"24px\"viewBox=\"0 0 24 24\"\n",
              "       width=\"24px\">\n",
              "    <path d=\"M0 0h24v24H0V0z\" fill=\"none\"/>\n",
              "    <path d=\"M18.56 5.44l.94 2.06.94-2.06 2.06-.94-2.06-.94-.94-2.06-.94 2.06-2.06.94zm-11 1L8.5 8.5l.94-2.06 2.06-.94-2.06-.94L8.5 2.5l-.94 2.06-2.06.94zm10 10l.94 2.06.94-2.06 2.06-.94-2.06-.94-.94-2.06-.94 2.06-2.06.94z\"/><path d=\"M17.41 7.96l-1.37-1.37c-.4-.4-.92-.59-1.43-.59-.52 0-1.04.2-1.43.59L10.3 9.45l-7.72 7.72c-.78.78-.78 2.05 0 2.83L4 21.41c.39.39.9.59 1.41.59.51 0 1.02-.2 1.41-.59l7.78-7.78 2.81-2.81c.8-.78.8-2.07 0-2.86zM5.41 20L4 18.59l7.72-7.72 1.47 1.35L5.41 20z\"/>\n",
              "  </svg>\n",
              "      </button>\n",
              "      \n",
              "  <style>\n",
              "    .colab-df-container {\n",
              "      display:flex;\n",
              "      flex-wrap:wrap;\n",
              "      gap: 12px;\n",
              "    }\n",
              "\n",
              "    .colab-df-convert {\n",
              "      background-color: #E8F0FE;\n",
              "      border: none;\n",
              "      border-radius: 50%;\n",
              "      cursor: pointer;\n",
              "      display: none;\n",
              "      fill: #1967D2;\n",
              "      height: 32px;\n",
              "      padding: 0 0 0 0;\n",
              "      width: 32px;\n",
              "    }\n",
              "\n",
              "    .colab-df-convert:hover {\n",
              "      background-color: #E2EBFA;\n",
              "      box-shadow: 0px 1px 2px rgba(60, 64, 67, 0.3), 0px 1px 3px 1px rgba(60, 64, 67, 0.15);\n",
              "      fill: #174EA6;\n",
              "    }\n",
              "\n",
              "    [theme=dark] .colab-df-convert {\n",
              "      background-color: #3B4455;\n",
              "      fill: #D2E3FC;\n",
              "    }\n",
              "\n",
              "    [theme=dark] .colab-df-convert:hover {\n",
              "      background-color: #434B5C;\n",
              "      box-shadow: 0px 1px 3px 1px rgba(0, 0, 0, 0.15);\n",
              "      filter: drop-shadow(0px 1px 2px rgba(0, 0, 0, 0.3));\n",
              "      fill: #FFFFFF;\n",
              "    }\n",
              "  </style>\n",
              "\n",
              "      <script>\n",
              "        const buttonEl =\n",
              "          document.querySelector('#df-8b156d5c-577d-4ab4-98e2-e78f4461300f button.colab-df-convert');\n",
              "        buttonEl.style.display =\n",
              "          google.colab.kernel.accessAllowed ? 'block' : 'none';\n",
              "\n",
              "        async function convertToInteractive(key) {\n",
              "          const element = document.querySelector('#df-8b156d5c-577d-4ab4-98e2-e78f4461300f');\n",
              "          const dataTable =\n",
              "            await google.colab.kernel.invokeFunction('convertToInteractive',\n",
              "                                                     [key], {});\n",
              "          if (!dataTable) return;\n",
              "\n",
              "          const docLinkHtml = 'Like what you see? Visit the ' +\n",
              "            '<a target=\"_blank\" href=https://colab.research.google.com/notebooks/data_table.ipynb>data table notebook</a>'\n",
              "            + ' to learn more about interactive tables.';\n",
              "          element.innerHTML = '';\n",
              "          dataTable['output_type'] = 'display_data';\n",
              "          await google.colab.output.renderOutput(dataTable, element);\n",
              "          const docLink = document.createElement('div');\n",
              "          docLink.innerHTML = docLinkHtml;\n",
              "          element.appendChild(docLink);\n",
              "        }\n",
              "      </script>\n",
              "    </div>\n",
              "  </div>\n",
              "  "
            ]
          },
          "metadata": {},
          "execution_count": 42
        }
      ],
      "source": [
        "#\n",
        "vmvbu.tail(2)"
      ]
    },
    {
      "cell_type": "markdown",
      "source": [
        "####**Renaming columns**"
      ],
      "metadata": {
        "id": "M4hX2NMtTsjj"
      }
    },
    {
      "cell_type": "code",
      "source": [
        "#\n",
        "vmvbu=vmvbu.rename(columns={'CRASH_DATE':'DATE','CRASH_TIME':'TIME','PERSON_AGE':'AGE','PERSON_SEX':'GENDER'})"
      ],
      "metadata": {
        "id": "28NhUksFFPNc",
        "cellView": "form"
      },
      "execution_count": 43,
      "outputs": []
    },
    {
      "cell_type": "code",
      "source": [
        "#\n",
        "vmvbu.columns"
      ],
      "metadata": {
        "colab": {
          "base_uri": "https://localhost:8080/"
        },
        "outputId": "c3b7ace3-8387-4901-913f-2ca4224f1fdf",
        "cellView": "form",
        "id": "4hS66e_5BU6e"
      },
      "execution_count": 44,
      "outputs": [
        {
          "output_type": "execute_result",
          "data": {
            "text/plain": [
              "Index(['UNIQUE_ID', 'COLLISION_ID', 'DATE', 'TIME', 'PERSON_TYPE',\n",
              "       'PERSON_INJURY', 'AGE', 'EJECTION', 'EMOTIONAL_STATUS', 'BODILY_INJURY',\n",
              "       'POSITION_IN_VEHICLE', 'SAFETY_EQUIPMENT', 'COMPLAINT', 'PED_ROLE',\n",
              "       'GENDER'],\n",
              "      dtype='object')"
            ]
          },
          "metadata": {},
          "execution_count": 44
        }
      ]
    },
    {
      "cell_type": "markdown",
      "metadata": {
        "id": "f3joI7xOpAo6"
      },
      "source": [
        "###Column uniques"
      ]
    },
    {
      "cell_type": "code",
      "execution_count": 45,
      "metadata": {
        "colab": {
          "base_uri": "https://localhost:8080/"
        },
        "id": "C6TZgZDjpAo7",
        "outputId": "12fe96ef-f834-4a4e-dc95-a1056122b08b",
        "cellView": "form"
      },
      "outputs": [
        {
          "output_type": "stream",
          "name": "stdout",
          "text": [
            "Category of Person Type ['Bicyclist']\n"
          ]
        }
      ],
      "source": [
        "#\n",
        "print('Category of Person Type',vmvbu['PERSON_TYPE'].unique())"
      ]
    },
    {
      "cell_type": "code",
      "execution_count": 46,
      "metadata": {
        "colab": {
          "base_uri": "https://localhost:8080/"
        },
        "id": "FxFNXNj-pAo6",
        "outputId": "8a1f925a-c558-49c8-d951-a49ef2712f1d",
        "cellView": "form"
      },
      "outputs": [
        {
          "output_type": "stream",
          "name": "stdout",
          "text": [
            "Gender Categories ['M' 'F' nan 'U']\n"
          ]
        }
      ],
      "source": [
        "#\n",
        "print('Gender Categories',vmvbu['GENDER'].unique())"
      ]
    },
    {
      "cell_type": "code",
      "execution_count": 47,
      "metadata": {
        "colab": {
          "base_uri": "https://localhost:8080/"
        },
        "id": "8uuhqcRHpAo7",
        "outputId": "8667618d-d611-4e2b-ed1b-56447ce211a6",
        "cellView": "form"
      },
      "outputs": [
        {
          "output_type": "stream",
          "name": "stdout",
          "text": [
            "Categorys of Person Injury ['Injured' 'Unspecified' 'Killed']\n"
          ]
        }
      ],
      "source": [
        "#\n",
        "print('Categorys of Person Injury',vmvbu['PERSON_INJURY'].unique())"
      ]
    },
    {
      "cell_type": "code",
      "execution_count": 48,
      "metadata": {
        "colab": {
          "base_uri": "https://localhost:8080/"
        },
        "id": "pOyULQ3GpAo7",
        "outputId": "84b04137-a84e-4129-c75a-de66b10584b8",
        "cellView": "form"
      },
      "outputs": [
        {
          "output_type": "stream",
          "name": "stdout",
          "text": [
            "Categorys of Emotional Status ['Unknown' 'Conscious' 'Does Not Apply' 'Shock' 'Incoherent' 'Unconscious'\n",
            " nan 'Semiconscious' 'Apparent Death']\n"
          ]
        }
      ],
      "source": [
        "#\n",
        "print('Categorys of Emotional Status',vmvbu['EMOTIONAL_STATUS'].unique())"
      ]
    },
    {
      "cell_type": "markdown",
      "metadata": {
        "id": "a0y_FJdyiO2q"
      },
      "source": [
        "###Creating Index "
      ]
    },
    {
      "cell_type": "code",
      "execution_count": 49,
      "metadata": {
        "colab": {
          "base_uri": "https://localhost:8080/",
          "height": 779
        },
        "id": "cy3XgNBNi0pE",
        "outputId": "10d62f3f-621c-49b5-8fe0-2f6410ef025c",
        "cellView": "form"
      },
      "outputs": [
        {
          "output_type": "execute_result",
          "data": {
            "text/plain": [
              "           COLLISION_ID        DATE   TIME PERSON_TYPE PERSON_INJURY   AGE  \\\n",
              "UNIQUE_ID                                                                    \n",
              "10254556        4230715  10/26/2019   8:50   Bicyclist       Injured  42.0   \n",
              "10250834        4230376  10/26/2019  19:40   Bicyclist       Injured  36.0   \n",
              "10251056        4230439  10/26/2019   0:05   Bicyclist       Injured  35.0   \n",
              "10249843        4230242  10/26/2019   6:54   Bicyclist       Injured  47.0   \n",
              "10254980        4230579  10/25/2019  22:24   Bicyclist       Injured  34.0   \n",
              "...                 ...         ...    ...         ...           ...   ...   \n",
              "12235868        4532222  05/29/2022   0:00   Bicyclist       Injured  50.0   \n",
              "12235871        4532244  05/29/2022  10:00   Bicyclist       Injured  21.0   \n",
              "12236707        4532395  05/29/2022   3:00   Bicyclist       Injured  20.0   \n",
              "12236882        4532393  05/29/2022  18:51   Bicyclist   Unspecified  36.0   \n",
              "12236218        4532289  05/29/2022   9:00   Bicyclist       Injured  38.0   \n",
              "\n",
              "              EJECTION EMOTIONAL_STATUS         BODILY_INJURY  \\\n",
              "UNIQUE_ID                                                       \n",
              "10254556   Not Ejected          Unknown   Knee-Lower Leg Foot   \n",
              "10250834   Not Ejected        Conscious                  Back   \n",
              "10251056       Ejected        Conscious  Elbow-Lower-Arm-Hand   \n",
              "10249843   Not Ejected        Conscious                  Back   \n",
              "10254980       Ejected        Conscious                  Back   \n",
              "...                ...              ...                   ...   \n",
              "12235868   Not Ejected        Conscious  Shoulder - Upper Arm   \n",
              "12235871   Not Ejected        Conscious         Hip-Upper Leg   \n",
              "12236707   Not Ejected        Conscious                  Head   \n",
              "12236882   Not Ejected   Does Not Apply        Does Not Apply   \n",
              "12236218   Not Ejected        Conscious         Hip-Upper Leg   \n",
              "\n",
              "                 POSITION_IN_VEHICLE                        SAFETY_EQUIPMENT  \\\n",
              "UNIQUE_ID                                                                      \n",
              "10254556                      Driver                                 Unknown   \n",
              "10250834                      Driver                                    None   \n",
              "10251056                      Driver                                    None   \n",
              "10249843                      Driver  Helmet Only (In-Line Skater/Bicyclist)   \n",
              "10254980                      Driver  Helmet Only (In-Line Skater/Bicyclist)   \n",
              "...                              ...                                     ...   \n",
              "12235868                      Driver  Helmet Only (In-Line Skater/Bicyclist)   \n",
              "12235871                      Driver  Helmet Only (In-Line Skater/Bicyclist)   \n",
              "12236707   Riding/Hanging on Outside                                    None   \n",
              "12236882                      Driver                                 Unknown   \n",
              "12236218                      Driver  Helmet Only (In-Line Skater/Bicyclist)   \n",
              "\n",
              "                             COMPLAINT PED_ROLE GENDER  \n",
              "UNIQUE_ID                                               \n",
              "10254556                  None Visible   Driver      M  \n",
              "10250834                      Internal   Driver      M  \n",
              "10251056                Minor Bleeding   Driver      M  \n",
              "10249843                  None Visible   Driver      M  \n",
              "10254980   Complaint of Pain or Nausea   Driver      M  \n",
              "...                                ...      ...    ...  \n",
              "12235868   Complaint of Pain or Nausea   Driver      F  \n",
              "12235871   Complaint of Pain or Nausea   Driver      F  \n",
              "12236707                Minor Bleeding   Driver      M  \n",
              "12236882                Does Not Apply   Driver      F  \n",
              "12236218   Complaint of Pain or Nausea   Driver      M  \n",
              "\n",
              "[56994 rows x 14 columns]"
            ],
            "text/html": [
              "\n",
              "  <div id=\"df-cec3f2cc-219a-4056-b3a2-714e182ead49\">\n",
              "    <div class=\"colab-df-container\">\n",
              "      <div>\n",
              "<style scoped>\n",
              "    .dataframe tbody tr th:only-of-type {\n",
              "        vertical-align: middle;\n",
              "    }\n",
              "\n",
              "    .dataframe tbody tr th {\n",
              "        vertical-align: top;\n",
              "    }\n",
              "\n",
              "    .dataframe thead th {\n",
              "        text-align: right;\n",
              "    }\n",
              "</style>\n",
              "<table border=\"1\" class=\"dataframe\">\n",
              "  <thead>\n",
              "    <tr style=\"text-align: right;\">\n",
              "      <th></th>\n",
              "      <th>COLLISION_ID</th>\n",
              "      <th>DATE</th>\n",
              "      <th>TIME</th>\n",
              "      <th>PERSON_TYPE</th>\n",
              "      <th>PERSON_INJURY</th>\n",
              "      <th>AGE</th>\n",
              "      <th>EJECTION</th>\n",
              "      <th>EMOTIONAL_STATUS</th>\n",
              "      <th>BODILY_INJURY</th>\n",
              "      <th>POSITION_IN_VEHICLE</th>\n",
              "      <th>SAFETY_EQUIPMENT</th>\n",
              "      <th>COMPLAINT</th>\n",
              "      <th>PED_ROLE</th>\n",
              "      <th>GENDER</th>\n",
              "    </tr>\n",
              "    <tr>\n",
              "      <th>UNIQUE_ID</th>\n",
              "      <th></th>\n",
              "      <th></th>\n",
              "      <th></th>\n",
              "      <th></th>\n",
              "      <th></th>\n",
              "      <th></th>\n",
              "      <th></th>\n",
              "      <th></th>\n",
              "      <th></th>\n",
              "      <th></th>\n",
              "      <th></th>\n",
              "      <th></th>\n",
              "      <th></th>\n",
              "      <th></th>\n",
              "    </tr>\n",
              "  </thead>\n",
              "  <tbody>\n",
              "    <tr>\n",
              "      <th>10254556</th>\n",
              "      <td>4230715</td>\n",
              "      <td>10/26/2019</td>\n",
              "      <td>8:50</td>\n",
              "      <td>Bicyclist</td>\n",
              "      <td>Injured</td>\n",
              "      <td>42.0</td>\n",
              "      <td>Not Ejected</td>\n",
              "      <td>Unknown</td>\n",
              "      <td>Knee-Lower Leg Foot</td>\n",
              "      <td>Driver</td>\n",
              "      <td>Unknown</td>\n",
              "      <td>None Visible</td>\n",
              "      <td>Driver</td>\n",
              "      <td>M</td>\n",
              "    </tr>\n",
              "    <tr>\n",
              "      <th>10250834</th>\n",
              "      <td>4230376</td>\n",
              "      <td>10/26/2019</td>\n",
              "      <td>19:40</td>\n",
              "      <td>Bicyclist</td>\n",
              "      <td>Injured</td>\n",
              "      <td>36.0</td>\n",
              "      <td>Not Ejected</td>\n",
              "      <td>Conscious</td>\n",
              "      <td>Back</td>\n",
              "      <td>Driver</td>\n",
              "      <td>None</td>\n",
              "      <td>Internal</td>\n",
              "      <td>Driver</td>\n",
              "      <td>M</td>\n",
              "    </tr>\n",
              "    <tr>\n",
              "      <th>10251056</th>\n",
              "      <td>4230439</td>\n",
              "      <td>10/26/2019</td>\n",
              "      <td>0:05</td>\n",
              "      <td>Bicyclist</td>\n",
              "      <td>Injured</td>\n",
              "      <td>35.0</td>\n",
              "      <td>Ejected</td>\n",
              "      <td>Conscious</td>\n",
              "      <td>Elbow-Lower-Arm-Hand</td>\n",
              "      <td>Driver</td>\n",
              "      <td>None</td>\n",
              "      <td>Minor Bleeding</td>\n",
              "      <td>Driver</td>\n",
              "      <td>M</td>\n",
              "    </tr>\n",
              "    <tr>\n",
              "      <th>10249843</th>\n",
              "      <td>4230242</td>\n",
              "      <td>10/26/2019</td>\n",
              "      <td>6:54</td>\n",
              "      <td>Bicyclist</td>\n",
              "      <td>Injured</td>\n",
              "      <td>47.0</td>\n",
              "      <td>Not Ejected</td>\n",
              "      <td>Conscious</td>\n",
              "      <td>Back</td>\n",
              "      <td>Driver</td>\n",
              "      <td>Helmet Only (In-Line Skater/Bicyclist)</td>\n",
              "      <td>None Visible</td>\n",
              "      <td>Driver</td>\n",
              "      <td>M</td>\n",
              "    </tr>\n",
              "    <tr>\n",
              "      <th>10254980</th>\n",
              "      <td>4230579</td>\n",
              "      <td>10/25/2019</td>\n",
              "      <td>22:24</td>\n",
              "      <td>Bicyclist</td>\n",
              "      <td>Injured</td>\n",
              "      <td>34.0</td>\n",
              "      <td>Ejected</td>\n",
              "      <td>Conscious</td>\n",
              "      <td>Back</td>\n",
              "      <td>Driver</td>\n",
              "      <td>Helmet Only (In-Line Skater/Bicyclist)</td>\n",
              "      <td>Complaint of Pain or Nausea</td>\n",
              "      <td>Driver</td>\n",
              "      <td>M</td>\n",
              "    </tr>\n",
              "    <tr>\n",
              "      <th>...</th>\n",
              "      <td>...</td>\n",
              "      <td>...</td>\n",
              "      <td>...</td>\n",
              "      <td>...</td>\n",
              "      <td>...</td>\n",
              "      <td>...</td>\n",
              "      <td>...</td>\n",
              "      <td>...</td>\n",
              "      <td>...</td>\n",
              "      <td>...</td>\n",
              "      <td>...</td>\n",
              "      <td>...</td>\n",
              "      <td>...</td>\n",
              "      <td>...</td>\n",
              "    </tr>\n",
              "    <tr>\n",
              "      <th>12235868</th>\n",
              "      <td>4532222</td>\n",
              "      <td>05/29/2022</td>\n",
              "      <td>0:00</td>\n",
              "      <td>Bicyclist</td>\n",
              "      <td>Injured</td>\n",
              "      <td>50.0</td>\n",
              "      <td>Not Ejected</td>\n",
              "      <td>Conscious</td>\n",
              "      <td>Shoulder - Upper Arm</td>\n",
              "      <td>Driver</td>\n",
              "      <td>Helmet Only (In-Line Skater/Bicyclist)</td>\n",
              "      <td>Complaint of Pain or Nausea</td>\n",
              "      <td>Driver</td>\n",
              "      <td>F</td>\n",
              "    </tr>\n",
              "    <tr>\n",
              "      <th>12235871</th>\n",
              "      <td>4532244</td>\n",
              "      <td>05/29/2022</td>\n",
              "      <td>10:00</td>\n",
              "      <td>Bicyclist</td>\n",
              "      <td>Injured</td>\n",
              "      <td>21.0</td>\n",
              "      <td>Not Ejected</td>\n",
              "      <td>Conscious</td>\n",
              "      <td>Hip-Upper Leg</td>\n",
              "      <td>Driver</td>\n",
              "      <td>Helmet Only (In-Line Skater/Bicyclist)</td>\n",
              "      <td>Complaint of Pain or Nausea</td>\n",
              "      <td>Driver</td>\n",
              "      <td>F</td>\n",
              "    </tr>\n",
              "    <tr>\n",
              "      <th>12236707</th>\n",
              "      <td>4532395</td>\n",
              "      <td>05/29/2022</td>\n",
              "      <td>3:00</td>\n",
              "      <td>Bicyclist</td>\n",
              "      <td>Injured</td>\n",
              "      <td>20.0</td>\n",
              "      <td>Not Ejected</td>\n",
              "      <td>Conscious</td>\n",
              "      <td>Head</td>\n",
              "      <td>Riding/Hanging on Outside</td>\n",
              "      <td>None</td>\n",
              "      <td>Minor Bleeding</td>\n",
              "      <td>Driver</td>\n",
              "      <td>M</td>\n",
              "    </tr>\n",
              "    <tr>\n",
              "      <th>12236882</th>\n",
              "      <td>4532393</td>\n",
              "      <td>05/29/2022</td>\n",
              "      <td>18:51</td>\n",
              "      <td>Bicyclist</td>\n",
              "      <td>Unspecified</td>\n",
              "      <td>36.0</td>\n",
              "      <td>Not Ejected</td>\n",
              "      <td>Does Not Apply</td>\n",
              "      <td>Does Not Apply</td>\n",
              "      <td>Driver</td>\n",
              "      <td>Unknown</td>\n",
              "      <td>Does Not Apply</td>\n",
              "      <td>Driver</td>\n",
              "      <td>F</td>\n",
              "    </tr>\n",
              "    <tr>\n",
              "      <th>12236218</th>\n",
              "      <td>4532289</td>\n",
              "      <td>05/29/2022</td>\n",
              "      <td>9:00</td>\n",
              "      <td>Bicyclist</td>\n",
              "      <td>Injured</td>\n",
              "      <td>38.0</td>\n",
              "      <td>Not Ejected</td>\n",
              "      <td>Conscious</td>\n",
              "      <td>Hip-Upper Leg</td>\n",
              "      <td>Driver</td>\n",
              "      <td>Helmet Only (In-Line Skater/Bicyclist)</td>\n",
              "      <td>Complaint of Pain or Nausea</td>\n",
              "      <td>Driver</td>\n",
              "      <td>M</td>\n",
              "    </tr>\n",
              "  </tbody>\n",
              "</table>\n",
              "<p>56994 rows × 14 columns</p>\n",
              "</div>\n",
              "      <button class=\"colab-df-convert\" onclick=\"convertToInteractive('df-cec3f2cc-219a-4056-b3a2-714e182ead49')\"\n",
              "              title=\"Convert this dataframe to an interactive table.\"\n",
              "              style=\"display:none;\">\n",
              "        \n",
              "  <svg xmlns=\"http://www.w3.org/2000/svg\" height=\"24px\"viewBox=\"0 0 24 24\"\n",
              "       width=\"24px\">\n",
              "    <path d=\"M0 0h24v24H0V0z\" fill=\"none\"/>\n",
              "    <path d=\"M18.56 5.44l.94 2.06.94-2.06 2.06-.94-2.06-.94-.94-2.06-.94 2.06-2.06.94zm-11 1L8.5 8.5l.94-2.06 2.06-.94-2.06-.94L8.5 2.5l-.94 2.06-2.06.94zm10 10l.94 2.06.94-2.06 2.06-.94-2.06-.94-.94-2.06-.94 2.06-2.06.94z\"/><path d=\"M17.41 7.96l-1.37-1.37c-.4-.4-.92-.59-1.43-.59-.52 0-1.04.2-1.43.59L10.3 9.45l-7.72 7.72c-.78.78-.78 2.05 0 2.83L4 21.41c.39.39.9.59 1.41.59.51 0 1.02-.2 1.41-.59l7.78-7.78 2.81-2.81c.8-.78.8-2.07 0-2.86zM5.41 20L4 18.59l7.72-7.72 1.47 1.35L5.41 20z\"/>\n",
              "  </svg>\n",
              "      </button>\n",
              "      \n",
              "  <style>\n",
              "    .colab-df-container {\n",
              "      display:flex;\n",
              "      flex-wrap:wrap;\n",
              "      gap: 12px;\n",
              "    }\n",
              "\n",
              "    .colab-df-convert {\n",
              "      background-color: #E8F0FE;\n",
              "      border: none;\n",
              "      border-radius: 50%;\n",
              "      cursor: pointer;\n",
              "      display: none;\n",
              "      fill: #1967D2;\n",
              "      height: 32px;\n",
              "      padding: 0 0 0 0;\n",
              "      width: 32px;\n",
              "    }\n",
              "\n",
              "    .colab-df-convert:hover {\n",
              "      background-color: #E2EBFA;\n",
              "      box-shadow: 0px 1px 2px rgba(60, 64, 67, 0.3), 0px 1px 3px 1px rgba(60, 64, 67, 0.15);\n",
              "      fill: #174EA6;\n",
              "    }\n",
              "\n",
              "    [theme=dark] .colab-df-convert {\n",
              "      background-color: #3B4455;\n",
              "      fill: #D2E3FC;\n",
              "    }\n",
              "\n",
              "    [theme=dark] .colab-df-convert:hover {\n",
              "      background-color: #434B5C;\n",
              "      box-shadow: 0px 1px 3px 1px rgba(0, 0, 0, 0.15);\n",
              "      filter: drop-shadow(0px 1px 2px rgba(0, 0, 0, 0.3));\n",
              "      fill: #FFFFFF;\n",
              "    }\n",
              "  </style>\n",
              "\n",
              "      <script>\n",
              "        const buttonEl =\n",
              "          document.querySelector('#df-cec3f2cc-219a-4056-b3a2-714e182ead49 button.colab-df-convert');\n",
              "        buttonEl.style.display =\n",
              "          google.colab.kernel.accessAllowed ? 'block' : 'none';\n",
              "\n",
              "        async function convertToInteractive(key) {\n",
              "          const element = document.querySelector('#df-cec3f2cc-219a-4056-b3a2-714e182ead49');\n",
              "          const dataTable =\n",
              "            await google.colab.kernel.invokeFunction('convertToInteractive',\n",
              "                                                     [key], {});\n",
              "          if (!dataTable) return;\n",
              "\n",
              "          const docLinkHtml = 'Like what you see? Visit the ' +\n",
              "            '<a target=\"_blank\" href=https://colab.research.google.com/notebooks/data_table.ipynb>data table notebook</a>'\n",
              "            + ' to learn more about interactive tables.';\n",
              "          element.innerHTML = '';\n",
              "          dataTable['output_type'] = 'display_data';\n",
              "          await google.colab.output.renderOutput(dataTable, element);\n",
              "          const docLink = document.createElement('div');\n",
              "          docLink.innerHTML = docLinkHtml;\n",
              "          element.appendChild(docLink);\n",
              "        }\n",
              "      </script>\n",
              "    </div>\n",
              "  </div>\n",
              "  "
            ]
          },
          "metadata": {},
          "execution_count": 49
        }
      ],
      "source": [
        "#\n",
        "#.index  Future analysis... ID#s shared accross all three databases.)\n",
        "vmvbu.set_index(['UNIQUE_ID'])\n"
      ]
    },
    {
      "cell_type": "markdown",
      "source": [
        "###Converting the date and time columns to to their specified data types"
      ],
      "metadata": {
        "id": "iTEDewHHBU6f"
      }
    },
    {
      "cell_type": "code",
      "source": [
        "#\n",
        "vmvbu['DATE_TIME']=(vmvbu['DATE'].map(str)+'-'+vmvbu['TIME'])\n",
        "vmvbu['DATE_TIME']=pd.to_datetime(vmvbu.DATE_TIME)"
      ],
      "metadata": {
        "id": "CbR5mvz0QY1i",
        "cellView": "form"
      },
      "execution_count": 50,
      "outputs": []
    },
    {
      "cell_type": "code",
      "source": [
        "#\n",
        "#For easier QUERY\n",
        "#Converting the date column to its specified data type\n",
        "vmvbu['DATE']=pd.to_datetime(vmvbu.DATE)\n",
        "#Creating three new columns for easy querying\n",
        "\n",
        "vmvbu['YEAR']=vmvbu.DATE.dt.year\n",
        "vmvbu['MONTH']=vmvbu.DATE.dt.month\n",
        "vmvbu['DAY']=vmvbu.DATE.dt.day\n",
        "#Creating 4 new columns for easy querying  ???? my creation... to plot maps..first time\n",
        "vmvbu['YEAR_MONTH']=vmvbu['DATE'].map(lambda dt: dt.strftime('%Y-%m'))\n",
        "vmvbu['MONTH_YEAR']=vmvbu['DATE'].map(lambda dt: dt.strftime('%m-%Y'))\n",
        "vmvbu['YMD_HMS']=vmvbu['DATE_TIME'].map(lambda dt: dt.strftime('%Y-%m-%d %H:%M:%S'))\n"
      ],
      "metadata": {
        "id": "5ooCE9wv8dsf",
        "cellView": "form"
      },
      "execution_count": 51,
      "outputs": []
    },
    {
      "cell_type": "code",
      "source": [
        "#\n",
        "#check min max DATEs\n",
        "min_date=min(vmvbu['DATE'])\n",
        "max_date=max(vmvbu['DATE'])\n",
        "print('Date range: ',min_date,'-',max_date)"
      ],
      "metadata": {
        "id": "j5OebHX3fBQL",
        "colab": {
          "base_uri": "https://localhost:8080/"
        },
        "outputId": "dc2ca6c0-b901-4768-ff10-eced9721e6e9",
        "cellView": "form"
      },
      "execution_count": 52,
      "outputs": [
        {
          "output_type": "stream",
          "name": "stdout",
          "text": [
            "Date range:  2012-07-01 00:00:00 - 2022-08-01 00:00:00\n"
          ]
        }
      ]
    },
    {
      "cell_type": "code",
      "source": [
        "#\n",
        "vmvbu.head(3)"
      ],
      "metadata": {
        "colab": {
          "base_uri": "https://localhost:8080/",
          "height": 341
        },
        "id": "EKVAiIxBOo8i",
        "outputId": "a9ab1b82-02a1-4e51-9615-37f54e52d982",
        "cellView": "form"
      },
      "execution_count": 53,
      "outputs": [
        {
          "output_type": "execute_result",
          "data": {
            "text/plain": [
              "    UNIQUE_ID  COLLISION_ID       DATE   TIME PERSON_TYPE PERSON_INJURY   AGE  \\\n",
              "18   10254556       4230715 2019-10-26   8:50   Bicyclist       Injured  42.0   \n",
              "31   10250834       4230376 2019-10-26  19:40   Bicyclist       Injured  36.0   \n",
              "69   10251056       4230439 2019-10-26   0:05   Bicyclist       Injured  35.0   \n",
              "\n",
              "       EJECTION EMOTIONAL_STATUS         BODILY_INJURY  ...       COMPLAINT  \\\n",
              "18  Not Ejected          Unknown   Knee-Lower Leg Foot  ...    None Visible   \n",
              "31  Not Ejected        Conscious                  Back  ...        Internal   \n",
              "69      Ejected        Conscious  Elbow-Lower-Arm-Hand  ...  Minor Bleeding   \n",
              "\n",
              "   PED_ROLE GENDER           DATE_TIME  YEAR MONTH  DAY  YEAR_MONTH  \\\n",
              "18   Driver      M 2019-10-26 08:50:00  2019    10   26     2019-10   \n",
              "31   Driver      M 2019-10-26 19:40:00  2019    10   26     2019-10   \n",
              "69   Driver      M 2019-10-26 00:05:00  2019    10   26     2019-10   \n",
              "\n",
              "    MONTH_YEAR              YMD_HMS  \n",
              "18     10-2019  2019-10-26 08:50:00  \n",
              "31     10-2019  2019-10-26 19:40:00  \n",
              "69     10-2019  2019-10-26 00:05:00  \n",
              "\n",
              "[3 rows x 22 columns]"
            ],
            "text/html": [
              "\n",
              "  <div id=\"df-0192f395-a05a-40cd-b4bd-bad522a8ffdb\">\n",
              "    <div class=\"colab-df-container\">\n",
              "      <div>\n",
              "<style scoped>\n",
              "    .dataframe tbody tr th:only-of-type {\n",
              "        vertical-align: middle;\n",
              "    }\n",
              "\n",
              "    .dataframe tbody tr th {\n",
              "        vertical-align: top;\n",
              "    }\n",
              "\n",
              "    .dataframe thead th {\n",
              "        text-align: right;\n",
              "    }\n",
              "</style>\n",
              "<table border=\"1\" class=\"dataframe\">\n",
              "  <thead>\n",
              "    <tr style=\"text-align: right;\">\n",
              "      <th></th>\n",
              "      <th>UNIQUE_ID</th>\n",
              "      <th>COLLISION_ID</th>\n",
              "      <th>DATE</th>\n",
              "      <th>TIME</th>\n",
              "      <th>PERSON_TYPE</th>\n",
              "      <th>PERSON_INJURY</th>\n",
              "      <th>AGE</th>\n",
              "      <th>EJECTION</th>\n",
              "      <th>EMOTIONAL_STATUS</th>\n",
              "      <th>BODILY_INJURY</th>\n",
              "      <th>...</th>\n",
              "      <th>COMPLAINT</th>\n",
              "      <th>PED_ROLE</th>\n",
              "      <th>GENDER</th>\n",
              "      <th>DATE_TIME</th>\n",
              "      <th>YEAR</th>\n",
              "      <th>MONTH</th>\n",
              "      <th>DAY</th>\n",
              "      <th>YEAR_MONTH</th>\n",
              "      <th>MONTH_YEAR</th>\n",
              "      <th>YMD_HMS</th>\n",
              "    </tr>\n",
              "  </thead>\n",
              "  <tbody>\n",
              "    <tr>\n",
              "      <th>18</th>\n",
              "      <td>10254556</td>\n",
              "      <td>4230715</td>\n",
              "      <td>2019-10-26</td>\n",
              "      <td>8:50</td>\n",
              "      <td>Bicyclist</td>\n",
              "      <td>Injured</td>\n",
              "      <td>42.0</td>\n",
              "      <td>Not Ejected</td>\n",
              "      <td>Unknown</td>\n",
              "      <td>Knee-Lower Leg Foot</td>\n",
              "      <td>...</td>\n",
              "      <td>None Visible</td>\n",
              "      <td>Driver</td>\n",
              "      <td>M</td>\n",
              "      <td>2019-10-26 08:50:00</td>\n",
              "      <td>2019</td>\n",
              "      <td>10</td>\n",
              "      <td>26</td>\n",
              "      <td>2019-10</td>\n",
              "      <td>10-2019</td>\n",
              "      <td>2019-10-26 08:50:00</td>\n",
              "    </tr>\n",
              "    <tr>\n",
              "      <th>31</th>\n",
              "      <td>10250834</td>\n",
              "      <td>4230376</td>\n",
              "      <td>2019-10-26</td>\n",
              "      <td>19:40</td>\n",
              "      <td>Bicyclist</td>\n",
              "      <td>Injured</td>\n",
              "      <td>36.0</td>\n",
              "      <td>Not Ejected</td>\n",
              "      <td>Conscious</td>\n",
              "      <td>Back</td>\n",
              "      <td>...</td>\n",
              "      <td>Internal</td>\n",
              "      <td>Driver</td>\n",
              "      <td>M</td>\n",
              "      <td>2019-10-26 19:40:00</td>\n",
              "      <td>2019</td>\n",
              "      <td>10</td>\n",
              "      <td>26</td>\n",
              "      <td>2019-10</td>\n",
              "      <td>10-2019</td>\n",
              "      <td>2019-10-26 19:40:00</td>\n",
              "    </tr>\n",
              "    <tr>\n",
              "      <th>69</th>\n",
              "      <td>10251056</td>\n",
              "      <td>4230439</td>\n",
              "      <td>2019-10-26</td>\n",
              "      <td>0:05</td>\n",
              "      <td>Bicyclist</td>\n",
              "      <td>Injured</td>\n",
              "      <td>35.0</td>\n",
              "      <td>Ejected</td>\n",
              "      <td>Conscious</td>\n",
              "      <td>Elbow-Lower-Arm-Hand</td>\n",
              "      <td>...</td>\n",
              "      <td>Minor Bleeding</td>\n",
              "      <td>Driver</td>\n",
              "      <td>M</td>\n",
              "      <td>2019-10-26 00:05:00</td>\n",
              "      <td>2019</td>\n",
              "      <td>10</td>\n",
              "      <td>26</td>\n",
              "      <td>2019-10</td>\n",
              "      <td>10-2019</td>\n",
              "      <td>2019-10-26 00:05:00</td>\n",
              "    </tr>\n",
              "  </tbody>\n",
              "</table>\n",
              "<p>3 rows × 22 columns</p>\n",
              "</div>\n",
              "      <button class=\"colab-df-convert\" onclick=\"convertToInteractive('df-0192f395-a05a-40cd-b4bd-bad522a8ffdb')\"\n",
              "              title=\"Convert this dataframe to an interactive table.\"\n",
              "              style=\"display:none;\">\n",
              "        \n",
              "  <svg xmlns=\"http://www.w3.org/2000/svg\" height=\"24px\"viewBox=\"0 0 24 24\"\n",
              "       width=\"24px\">\n",
              "    <path d=\"M0 0h24v24H0V0z\" fill=\"none\"/>\n",
              "    <path d=\"M18.56 5.44l.94 2.06.94-2.06 2.06-.94-2.06-.94-.94-2.06-.94 2.06-2.06.94zm-11 1L8.5 8.5l.94-2.06 2.06-.94-2.06-.94L8.5 2.5l-.94 2.06-2.06.94zm10 10l.94 2.06.94-2.06 2.06-.94-2.06-.94-.94-2.06-.94 2.06-2.06.94z\"/><path d=\"M17.41 7.96l-1.37-1.37c-.4-.4-.92-.59-1.43-.59-.52 0-1.04.2-1.43.59L10.3 9.45l-7.72 7.72c-.78.78-.78 2.05 0 2.83L4 21.41c.39.39.9.59 1.41.59.51 0 1.02-.2 1.41-.59l7.78-7.78 2.81-2.81c.8-.78.8-2.07 0-2.86zM5.41 20L4 18.59l7.72-7.72 1.47 1.35L5.41 20z\"/>\n",
              "  </svg>\n",
              "      </button>\n",
              "      \n",
              "  <style>\n",
              "    .colab-df-container {\n",
              "      display:flex;\n",
              "      flex-wrap:wrap;\n",
              "      gap: 12px;\n",
              "    }\n",
              "\n",
              "    .colab-df-convert {\n",
              "      background-color: #E8F0FE;\n",
              "      border: none;\n",
              "      border-radius: 50%;\n",
              "      cursor: pointer;\n",
              "      display: none;\n",
              "      fill: #1967D2;\n",
              "      height: 32px;\n",
              "      padding: 0 0 0 0;\n",
              "      width: 32px;\n",
              "    }\n",
              "\n",
              "    .colab-df-convert:hover {\n",
              "      background-color: #E2EBFA;\n",
              "      box-shadow: 0px 1px 2px rgba(60, 64, 67, 0.3), 0px 1px 3px 1px rgba(60, 64, 67, 0.15);\n",
              "      fill: #174EA6;\n",
              "    }\n",
              "\n",
              "    [theme=dark] .colab-df-convert {\n",
              "      background-color: #3B4455;\n",
              "      fill: #D2E3FC;\n",
              "    }\n",
              "\n",
              "    [theme=dark] .colab-df-convert:hover {\n",
              "      background-color: #434B5C;\n",
              "      box-shadow: 0px 1px 3px 1px rgba(0, 0, 0, 0.15);\n",
              "      filter: drop-shadow(0px 1px 2px rgba(0, 0, 0, 0.3));\n",
              "      fill: #FFFFFF;\n",
              "    }\n",
              "  </style>\n",
              "\n",
              "      <script>\n",
              "        const buttonEl =\n",
              "          document.querySelector('#df-0192f395-a05a-40cd-b4bd-bad522a8ffdb button.colab-df-convert');\n",
              "        buttonEl.style.display =\n",
              "          google.colab.kernel.accessAllowed ? 'block' : 'none';\n",
              "\n",
              "        async function convertToInteractive(key) {\n",
              "          const element = document.querySelector('#df-0192f395-a05a-40cd-b4bd-bad522a8ffdb');\n",
              "          const dataTable =\n",
              "            await google.colab.kernel.invokeFunction('convertToInteractive',\n",
              "                                                     [key], {});\n",
              "          if (!dataTable) return;\n",
              "\n",
              "          const docLinkHtml = 'Like what you see? Visit the ' +\n",
              "            '<a target=\"_blank\" href=https://colab.research.google.com/notebooks/data_table.ipynb>data table notebook</a>'\n",
              "            + ' to learn more about interactive tables.';\n",
              "          element.innerHTML = '';\n",
              "          dataTable['output_type'] = 'display_data';\n",
              "          await google.colab.output.renderOutput(dataTable, element);\n",
              "          const docLink = document.createElement('div');\n",
              "          docLink.innerHTML = docLinkHtml;\n",
              "          element.appendChild(docLink);\n",
              "        }\n",
              "      </script>\n",
              "    </div>\n",
              "  </div>\n",
              "  "
            ]
          },
          "metadata": {},
          "execution_count": 53
        }
      ]
    },
    {
      "cell_type": "code",
      "source": [
        "#\n",
        "vmvbu.dtypes"
      ],
      "metadata": {
        "colab": {
          "base_uri": "https://localhost:8080/"
        },
        "id": "THfa8mBdufXy",
        "outputId": "52779ea8-5976-4d98-8235-42bb7ad23940",
        "cellView": "form"
      },
      "execution_count": 54,
      "outputs": [
        {
          "output_type": "execute_result",
          "data": {
            "text/plain": [
              "UNIQUE_ID                       int64\n",
              "COLLISION_ID                    int64\n",
              "DATE                   datetime64[ns]\n",
              "TIME                           object\n",
              "PERSON_TYPE                    object\n",
              "PERSON_INJURY                  object\n",
              "AGE                           float64\n",
              "EJECTION                       object\n",
              "EMOTIONAL_STATUS               object\n",
              "BODILY_INJURY                  object\n",
              "POSITION_IN_VEHICLE            object\n",
              "SAFETY_EQUIPMENT               object\n",
              "COMPLAINT                      object\n",
              "PED_ROLE                       object\n",
              "GENDER                         object\n",
              "DATE_TIME              datetime64[ns]\n",
              "YEAR                            int64\n",
              "MONTH                           int64\n",
              "DAY                             int64\n",
              "YEAR_MONTH                     object\n",
              "MONTH_YEAR                     object\n",
              "YMD_HMS                        object\n",
              "dtype: object"
            ]
          },
          "metadata": {},
          "execution_count": 54
        }
      ]
    },
    {
      "cell_type": "markdown",
      "metadata": {
        "id": "yupDHo0YI5M1"
      },
      "source": [
        "####Date Time columns created ???"
      ]
    },
    {
      "cell_type": "code",
      "execution_count": 55,
      "metadata": {
        "colab": {
          "base_uri": "https://localhost:8080/"
        },
        "id": "sC1vXWdWtxcq",
        "outputId": "1db1fdbf-ca34-4751-9397-95f1c64487e4",
        "cellView": "form"
      },
      "outputs": [
        {
          "output_type": "execute_result",
          "data": {
            "text/plain": [
              "(56994, 22)"
            ]
          },
          "metadata": {},
          "execution_count": 55
        }
      ],
      "source": [
        "#\n",
        "vmvbu.shape"
      ]
    },
    {
      "cell_type": "markdown",
      "metadata": {
        "id": "QsSdOmDbyLZa"
      },
      "source": [
        "####Coercing Age column ??? "
      ]
    },
    {
      "cell_type": "code",
      "execution_count": 56,
      "metadata": {
        "id": "GkaWGcjzFGke",
        "colab": {
          "base_uri": "https://localhost:8080/"
        },
        "outputId": "c4d9b868-ec5e-45ba-ab87-26b68dd6c4e5",
        "cellView": "form"
      },
      "outputs": [
        {
          "output_type": "stream",
          "name": "stdout",
          "text": [
            " 25.0      1970\n",
            " 26.0      1951\n",
            " 28.0      1879\n",
            " 24.0      1875\n",
            " 27.0      1872\n",
            "           ... \n",
            " 3047.0       1\n",
            " 817.0        1\n",
            " 1027.0       1\n",
            " 1047.0       1\n",
            "-962.0        1\n",
            "Name: AGE, Length: 133, dtype: int64\n"
          ]
        }
      ],
      "source": [
        "#\n",
        "print(vmvbu['AGE'].value_counts())"
      ]
    },
    {
      "cell_type": "code",
      "execution_count": 57,
      "metadata": {
        "id": "C1Rpw9WsHHNE",
        "colab": {
          "base_uri": "https://localhost:8080/"
        },
        "outputId": "39f29cab-d274-4643-d267-946456518122",
        "cellView": "form"
      },
      "outputs": [
        {
          "output_type": "execute_result",
          "data": {
            "text/plain": [
              "152"
            ]
          },
          "metadata": {},
          "execution_count": 57
        }
      ],
      "source": [
        "#\n",
        "vmvbu.AGE.isnull().sum()"
      ]
    },
    {
      "cell_type": "code",
      "source": [
        "#\n",
        "print(vmvbu['AGE'].value_counts().nunique())"
      ],
      "metadata": {
        "colab": {
          "base_uri": "https://localhost:8080/"
        },
        "cellView": "form",
        "id": "iyD92Dax2t1Q",
        "outputId": "d98fc79a-e87b-413b-8951-8a0214f80c4a"
      },
      "execution_count": 58,
      "outputs": [
        {
          "output_type": "stream",
          "name": "stdout",
          "text": [
            "88\n"
          ]
        }
      ]
    },
    {
      "cell_type": "code",
      "execution_count": 59,
      "metadata": {
        "id": "fjYCBrCiU6fK",
        "cellView": "form"
      },
      "outputs": [],
      "source": [
        "#\n",
        " vmvbu.AGE=vmvbu.AGE.map(lambda x: np.nan if x <0 or x >100 else x)"
      ]
    },
    {
      "cell_type": "code",
      "execution_count": 60,
      "metadata": {
        "id": "BTrpdFyrjtP5",
        "cellView": "form"
      },
      "outputs": [],
      "source": [
        "#\n",
        "vmvbu.dropna(subset=['AGE'],inplace=True)\n"
      ]
    },
    {
      "cell_type": "code",
      "execution_count": 61,
      "metadata": {
        "id": "oIXDmltYj_cw",
        "colab": {
          "base_uri": "https://localhost:8080/"
        },
        "outputId": "8ba1bf56-73cc-4748-a283-8a5c6e6d258f",
        "cellView": "form"
      },
      "outputs": [
        {
          "output_type": "stream",
          "name": "stdout",
          "text": [
            "87\n"
          ]
        }
      ],
      "source": [
        "#\n",
        "print(vmvbu['AGE'].value_counts().nunique())"
      ]
    },
    {
      "cell_type": "code",
      "execution_count": 62,
      "metadata": {
        "id": "qNFwHhITU6fK",
        "colab": {
          "base_uri": "https://localhost:8080/"
        },
        "outputId": "61575d41-4c1e-4bd5-ede3-43874b75d3a5",
        "cellView": "form"
      },
      "outputs": [
        {
          "output_type": "execute_result",
          "data": {
            "text/plain": [
              "0"
            ]
          },
          "metadata": {},
          "execution_count": 62
        }
      ],
      "source": [
        "#\n",
        "vmvbu.AGE.isnull().sum()"
      ]
    },
    {
      "cell_type": "code",
      "execution_count": 63,
      "metadata": {
        "id": "v7i9vbjCldts",
        "cellView": "form"
      },
      "outputs": [],
      "source": [
        "#\n",
        "vmvbu['AGE']=vmvbu['AGE'].astype(int)"
      ]
    },
    {
      "cell_type": "code",
      "execution_count": 64,
      "metadata": {
        "id": "LvY57IHZhJDh",
        "colab": {
          "base_uri": "https://localhost:8080/"
        },
        "outputId": "81a6b61a-0460-47dc-f9da-2fa5a27c44ff",
        "cellView": "form"
      },
      "outputs": [
        {
          "output_type": "execute_result",
          "data": {
            "text/plain": [
              "UNIQUE_ID                       int64\n",
              "COLLISION_ID                    int64\n",
              "DATE                   datetime64[ns]\n",
              "TIME                           object\n",
              "PERSON_TYPE                    object\n",
              "PERSON_INJURY                  object\n",
              "AGE                             int64\n",
              "EJECTION                       object\n",
              "EMOTIONAL_STATUS               object\n",
              "BODILY_INJURY                  object\n",
              "POSITION_IN_VEHICLE            object\n",
              "SAFETY_EQUIPMENT               object\n",
              "COMPLAINT                      object\n",
              "PED_ROLE                       object\n",
              "GENDER                         object\n",
              "DATE_TIME              datetime64[ns]\n",
              "YEAR                            int64\n",
              "MONTH                           int64\n",
              "DAY                             int64\n",
              "YEAR_MONTH                     object\n",
              "MONTH_YEAR                     object\n",
              "YMD_HMS                        object\n",
              "dtype: object"
            ]
          },
          "metadata": {},
          "execution_count": 64
        }
      ],
      "source": [
        "#\n",
        "vmvbu.dtypes\n",
        "#.Age=vmcpub.Age.map(lambda x: np.nan if x <0 or x >100 else x)"
      ]
    },
    {
      "cell_type": "markdown",
      "metadata": {
        "id": "WxVk3_xDp14O"
      },
      "source": [
        "#Wrangling Sorting and Visualizations"
      ]
    },
    {
      "cell_type": "markdown",
      "metadata": {
        "id": "lIG6z30gpAo6"
      },
      "source": [
        "####sort_values"
      ]
    },
    {
      "cell_type": "code",
      "execution_count": 65,
      "metadata": {
        "colab": {
          "base_uri": "https://localhost:8080/",
          "height": 275
        },
        "id": "iJYlxnE5o7Kr",
        "outputId": "46e4de8c-4e17-40f3-d2ff-f08398f4d659",
        "cellView": "form"
      },
      "outputs": [
        {
          "output_type": "execute_result",
          "data": {
            "text/plain": [
              "         UNIQUE_ID  COLLISION_ID       DATE   TIME PERSON_TYPE PERSON_INJURY  \\\n",
              "600575     1885858        193861 2012-07-01  12:15   Bicyclist       Injured   \n",
              "2738833    1272222          9409 2012-07-01  14:14   Bicyclist       Injured   \n",
              "\n",
              "         AGE EJECTION EMOTIONAL_STATUS BODILY_INJURY  ... COMPLAINT PED_ROLE  \\\n",
              "600575    21      NaN              NaN           NaN  ...       NaN      NaN   \n",
              "2738833   28      NaN              NaN           NaN  ...       NaN      NaN   \n",
              "\n",
              "        GENDER           DATE_TIME  YEAR MONTH  DAY  YEAR_MONTH  MONTH_YEAR  \\\n",
              "600575     NaN 2012-07-01 12:15:00  2012     7    1     2012-07     07-2012   \n",
              "2738833    NaN 2012-07-01 14:14:00  2012     7    1     2012-07     07-2012   \n",
              "\n",
              "                     YMD_HMS  \n",
              "600575   2012-07-01 12:15:00  \n",
              "2738833  2012-07-01 14:14:00  \n",
              "\n",
              "[2 rows x 22 columns]"
            ],
            "text/html": [
              "\n",
              "  <div id=\"df-6a7b7acd-c7e3-4482-8e13-e44ae5e8774f\">\n",
              "    <div class=\"colab-df-container\">\n",
              "      <div>\n",
              "<style scoped>\n",
              "    .dataframe tbody tr th:only-of-type {\n",
              "        vertical-align: middle;\n",
              "    }\n",
              "\n",
              "    .dataframe tbody tr th {\n",
              "        vertical-align: top;\n",
              "    }\n",
              "\n",
              "    .dataframe thead th {\n",
              "        text-align: right;\n",
              "    }\n",
              "</style>\n",
              "<table border=\"1\" class=\"dataframe\">\n",
              "  <thead>\n",
              "    <tr style=\"text-align: right;\">\n",
              "      <th></th>\n",
              "      <th>UNIQUE_ID</th>\n",
              "      <th>COLLISION_ID</th>\n",
              "      <th>DATE</th>\n",
              "      <th>TIME</th>\n",
              "      <th>PERSON_TYPE</th>\n",
              "      <th>PERSON_INJURY</th>\n",
              "      <th>AGE</th>\n",
              "      <th>EJECTION</th>\n",
              "      <th>EMOTIONAL_STATUS</th>\n",
              "      <th>BODILY_INJURY</th>\n",
              "      <th>...</th>\n",
              "      <th>COMPLAINT</th>\n",
              "      <th>PED_ROLE</th>\n",
              "      <th>GENDER</th>\n",
              "      <th>DATE_TIME</th>\n",
              "      <th>YEAR</th>\n",
              "      <th>MONTH</th>\n",
              "      <th>DAY</th>\n",
              "      <th>YEAR_MONTH</th>\n",
              "      <th>MONTH_YEAR</th>\n",
              "      <th>YMD_HMS</th>\n",
              "    </tr>\n",
              "  </thead>\n",
              "  <tbody>\n",
              "    <tr>\n",
              "      <th>600575</th>\n",
              "      <td>1885858</td>\n",
              "      <td>193861</td>\n",
              "      <td>2012-07-01</td>\n",
              "      <td>12:15</td>\n",
              "      <td>Bicyclist</td>\n",
              "      <td>Injured</td>\n",
              "      <td>21</td>\n",
              "      <td>NaN</td>\n",
              "      <td>NaN</td>\n",
              "      <td>NaN</td>\n",
              "      <td>...</td>\n",
              "      <td>NaN</td>\n",
              "      <td>NaN</td>\n",
              "      <td>NaN</td>\n",
              "      <td>2012-07-01 12:15:00</td>\n",
              "      <td>2012</td>\n",
              "      <td>7</td>\n",
              "      <td>1</td>\n",
              "      <td>2012-07</td>\n",
              "      <td>07-2012</td>\n",
              "      <td>2012-07-01 12:15:00</td>\n",
              "    </tr>\n",
              "    <tr>\n",
              "      <th>2738833</th>\n",
              "      <td>1272222</td>\n",
              "      <td>9409</td>\n",
              "      <td>2012-07-01</td>\n",
              "      <td>14:14</td>\n",
              "      <td>Bicyclist</td>\n",
              "      <td>Injured</td>\n",
              "      <td>28</td>\n",
              "      <td>NaN</td>\n",
              "      <td>NaN</td>\n",
              "      <td>NaN</td>\n",
              "      <td>...</td>\n",
              "      <td>NaN</td>\n",
              "      <td>NaN</td>\n",
              "      <td>NaN</td>\n",
              "      <td>2012-07-01 14:14:00</td>\n",
              "      <td>2012</td>\n",
              "      <td>7</td>\n",
              "      <td>1</td>\n",
              "      <td>2012-07</td>\n",
              "      <td>07-2012</td>\n",
              "      <td>2012-07-01 14:14:00</td>\n",
              "    </tr>\n",
              "  </tbody>\n",
              "</table>\n",
              "<p>2 rows × 22 columns</p>\n",
              "</div>\n",
              "      <button class=\"colab-df-convert\" onclick=\"convertToInteractive('df-6a7b7acd-c7e3-4482-8e13-e44ae5e8774f')\"\n",
              "              title=\"Convert this dataframe to an interactive table.\"\n",
              "              style=\"display:none;\">\n",
              "        \n",
              "  <svg xmlns=\"http://www.w3.org/2000/svg\" height=\"24px\"viewBox=\"0 0 24 24\"\n",
              "       width=\"24px\">\n",
              "    <path d=\"M0 0h24v24H0V0z\" fill=\"none\"/>\n",
              "    <path d=\"M18.56 5.44l.94 2.06.94-2.06 2.06-.94-2.06-.94-.94-2.06-.94 2.06-2.06.94zm-11 1L8.5 8.5l.94-2.06 2.06-.94-2.06-.94L8.5 2.5l-.94 2.06-2.06.94zm10 10l.94 2.06.94-2.06 2.06-.94-2.06-.94-.94-2.06-.94 2.06-2.06.94z\"/><path d=\"M17.41 7.96l-1.37-1.37c-.4-.4-.92-.59-1.43-.59-.52 0-1.04.2-1.43.59L10.3 9.45l-7.72 7.72c-.78.78-.78 2.05 0 2.83L4 21.41c.39.39.9.59 1.41.59.51 0 1.02-.2 1.41-.59l7.78-7.78 2.81-2.81c.8-.78.8-2.07 0-2.86zM5.41 20L4 18.59l7.72-7.72 1.47 1.35L5.41 20z\"/>\n",
              "  </svg>\n",
              "      </button>\n",
              "      \n",
              "  <style>\n",
              "    .colab-df-container {\n",
              "      display:flex;\n",
              "      flex-wrap:wrap;\n",
              "      gap: 12px;\n",
              "    }\n",
              "\n",
              "    .colab-df-convert {\n",
              "      background-color: #E8F0FE;\n",
              "      border: none;\n",
              "      border-radius: 50%;\n",
              "      cursor: pointer;\n",
              "      display: none;\n",
              "      fill: #1967D2;\n",
              "      height: 32px;\n",
              "      padding: 0 0 0 0;\n",
              "      width: 32px;\n",
              "    }\n",
              "\n",
              "    .colab-df-convert:hover {\n",
              "      background-color: #E2EBFA;\n",
              "      box-shadow: 0px 1px 2px rgba(60, 64, 67, 0.3), 0px 1px 3px 1px rgba(60, 64, 67, 0.15);\n",
              "      fill: #174EA6;\n",
              "    }\n",
              "\n",
              "    [theme=dark] .colab-df-convert {\n",
              "      background-color: #3B4455;\n",
              "      fill: #D2E3FC;\n",
              "    }\n",
              "\n",
              "    [theme=dark] .colab-df-convert:hover {\n",
              "      background-color: #434B5C;\n",
              "      box-shadow: 0px 1px 3px 1px rgba(0, 0, 0, 0.15);\n",
              "      filter: drop-shadow(0px 1px 2px rgba(0, 0, 0, 0.3));\n",
              "      fill: #FFFFFF;\n",
              "    }\n",
              "  </style>\n",
              "\n",
              "      <script>\n",
              "        const buttonEl =\n",
              "          document.querySelector('#df-6a7b7acd-c7e3-4482-8e13-e44ae5e8774f button.colab-df-convert');\n",
              "        buttonEl.style.display =\n",
              "          google.colab.kernel.accessAllowed ? 'block' : 'none';\n",
              "\n",
              "        async function convertToInteractive(key) {\n",
              "          const element = document.querySelector('#df-6a7b7acd-c7e3-4482-8e13-e44ae5e8774f');\n",
              "          const dataTable =\n",
              "            await google.colab.kernel.invokeFunction('convertToInteractive',\n",
              "                                                     [key], {});\n",
              "          if (!dataTable) return;\n",
              "\n",
              "          const docLinkHtml = 'Like what you see? Visit the ' +\n",
              "            '<a target=\"_blank\" href=https://colab.research.google.com/notebooks/data_table.ipynb>data table notebook</a>'\n",
              "            + ' to learn more about interactive tables.';\n",
              "          element.innerHTML = '';\n",
              "          dataTable['output_type'] = 'display_data';\n",
              "          await google.colab.output.renderOutput(dataTable, element);\n",
              "          const docLink = document.createElement('div');\n",
              "          docLink.innerHTML = docLinkHtml;\n",
              "          element.appendChild(docLink);\n",
              "        }\n",
              "      </script>\n",
              "    </div>\n",
              "  </div>\n",
              "  "
            ]
          },
          "metadata": {},
          "execution_count": 65
        }
      ],
      "source": [
        "#\n",
        "vmvbu.sort_values(['DATE','TIME'],ascending=True,inplace=False).head(2)"
      ]
    },
    {
      "cell_type": "markdown",
      "metadata": {
        "id": "hKn7hlA_CGx0"
      },
      "source": [
        "##**Visualizations** 07/2012-2022-update on file\n"
      ]
    },
    {
      "cell_type": "markdown",
      "metadata": {
        "id": "Ek3RjS9yTzUj"
      },
      "source": [
        "Vision Zero Bicycle Incidencts 07/2012 - 07/2022"
      ]
    },
    {
      "cell_type": "markdown",
      "source": [
        "Person Injury: \n",
        "* Injured        22916\n",
        "* Unspecified     6664\n",
        "* Killed           101"
      ],
      "metadata": {
        "id": "dgOP5x3Cz1Cc"
      }
    },
    {
      "cell_type": "code",
      "execution_count": 66,
      "metadata": {
        "id": "wGy6LdcgpAo7",
        "cellView": "form",
        "colab": {
          "base_uri": "https://localhost:8080/"
        },
        "outputId": "933272db-edb4-4b41-b668-41182dac0cd9"
      },
      "outputs": [
        {
          "output_type": "stream",
          "name": "stdout",
          "text": [
            "Person Injury: \n",
            " Injured        47292\n",
            "Unspecified     9309\n",
            "Killed           198\n",
            "Name: PERSON_INJURY, dtype: int64\n"
          ]
        }
      ],
      "source": [
        "#\n",
        "#Total counts of Persons Injured\n",
        "print('Person Injury: \\n',vmvbu['PERSON_INJURY'].value_counts())"
      ]
    },
    {
      "cell_type": "code",
      "execution_count": 67,
      "metadata": {
        "id": "hBlOIAQdpAo8",
        "cellView": "form",
        "colab": {
          "base_uri": "https://localhost:8080/"
        },
        "outputId": "c383b0f4-905f-45c9-8782-3271b5298eb7"
      },
      "outputs": [
        {
          "output_type": "stream",
          "name": "stdout",
          "text": [
            "Persons Role: \n",
            " Driver       40914\n",
            "Passenger      810\n",
            "Name: PED_ROLE, dtype: int64\n"
          ]
        }
      ],
      "source": [
        "#\n",
        "#Total counts by Emotional Status of Persons Injured\n",
        "print('Persons Role: \\n',vmvbu['PED_ROLE'].value_counts())"
      ]
    },
    {
      "cell_type": "code",
      "execution_count": 68,
      "metadata": {
        "id": "gnqzo8s9pAo8",
        "cellView": "form",
        "colab": {
          "base_uri": "https://localhost:8080/"
        },
        "outputId": "c8c1c56c-3bec-4761-bf78-3f798ffe2f99"
      },
      "outputs": [
        {
          "output_type": "stream",
          "name": "stdout",
          "text": [
            "Gender: \n",
            " M    36025\n",
            "F     5611\n",
            "U       88\n",
            "Name: GENDER, dtype: int64\n"
          ]
        }
      ],
      "source": [
        "#\n",
        "#Total counts by Gender of Persons Injured\n",
        "print('Gender: \\n',vmvbu['GENDER'].value_counts())"
      ]
    },
    {
      "cell_type": "code",
      "execution_count": null,
      "metadata": {
        "id": "osVUuy1SvTxw",
        "cellView": "form"
      },
      "outputs": [],
      "source": [
        "#\n",
        "vmvbu.head()"
      ]
    },
    {
      "cell_type": "code",
      "execution_count": null,
      "metadata": {
        "id": "INTHb-MDpAo7",
        "cellView": "form"
      },
      "outputs": [],
      "source": [
        "#\n",
        "print(vmvbu['BODILY_INJURY'].unique())"
      ]
    },
    {
      "cell_type": "code",
      "execution_count": null,
      "metadata": {
        "id": "i-94xKyBpAo7",
        "cellView": "form"
      },
      "outputs": [],
      "source": [
        "#\n",
        "print(vmvbu['SAFETY_EQUIPMENT'].unique())"
      ]
    },
    {
      "cell_type": "code",
      "execution_count": null,
      "metadata": {
        "id": "eFWrsY3GpAo6",
        "cellView": "form"
      },
      "outputs": [],
      "source": [
        "#\n",
        "#vmvbu.set_index('Unique ID',inplace=True)\n",
        "vmvbu.sort_values(['DATE','TIME'],ascending=True,inplace=False).head(2)"
      ]
    },
    {
      "cell_type": "code",
      "execution_count": null,
      "metadata": {
        "id": "jDv4BA1PpAo8",
        "cellView": "form"
      },
      "outputs": [],
      "source": [
        "#\n",
        "#ID=vmvbu['GENDER']\n",
        "df1=pd.DataFrame(vmvbu.groupby(['EMOTIONAL_STATUS','GENDER'])['AGE'].mean())\n",
        "df1.plot.bar()\n",
        "\n",
        "plt.xticks(rotation=85)"
      ]
    },
    {
      "cell_type": "code",
      "source": [
        "#\n"
      ],
      "metadata": {
        "id": "kz6fJbuJH6eR",
        "cellView": "form"
      },
      "execution_count": 73,
      "outputs": []
    },
    {
      "cell_type": "code",
      "execution_count": null,
      "metadata": {
        "id": "irilqwK2IYJF",
        "cellView": "form"
      },
      "outputs": [],
      "source": [
        "#\n",
        "grouped_vmvbu=vmvbu.groupby('YEAR_MONTH').size().to_frame(\"Bicycling Incidents\").reset_index()\n",
        "plt.rcParams[\"figure.figsize\"] = [40, 4]\n",
        "plt.rcParams[\"figure.autolayout\"] = True\n",
        "ax = grouped_vmvbu.plot.bar(x='YEAR_MONTH',y='Bicycling Incidents',title='NYC Collisions-Crashes\\nby YEAR MONTH\\n07-01-2012 - 07-31-2022', legend=False)\n",
        "grouped_vmvbu.plot(y='Bicycling Incidents', marker='*', color='orange', ax=ax, use_index=False,secondary_y=True, mark_right=False)\n",
        "\n",
        "ax.set_xticklabels(['YEAR_MONTH'], rotation=15)\n",
        "ax.right_ax.set_ylabel('Bicycling Incidents')\n",
        "#plt.legend(bbox_to_anchor=(1.05,1),loc='upper left',borderaxespad=0)\n",
        "\n",
        "\n"
      ]
    },
    {
      "cell_type": "code",
      "source": [
        "#\n",
        "pd. set_option('display.max_rows', None)\n",
        "pd. set_option('display.max_columns', None)\n",
        "pd. set_option('display.width', None)\n",
        "pd. set_option('display.max_colwidth', None)\n"
      ],
      "metadata": {
        "id": "rH9qaaHF_uDa",
        "cellView": "form"
      },
      "execution_count": 75,
      "outputs": []
    },
    {
      "cell_type": "code",
      "source": [
        "#\n",
        "print(vmvbu.groupby('YEAR_MONTH').size())"
      ],
      "metadata": {
        "cellView": "form",
        "id": "eRYqQTht5rgz"
      },
      "execution_count": null,
      "outputs": []
    },
    {
      "cell_type": "code",
      "source": [
        "#\n",
        "print(vmvbu.groupby('MONTH_YEAR').size())"
      ],
      "metadata": {
        "id": "42nic-79Kohd",
        "cellView": "form"
      },
      "execution_count": null,
      "outputs": []
    },
    {
      "cell_type": "markdown",
      "source": [
        "#1"
      ],
      "metadata": {
        "id": "Ajw5A2WpvjsX"
      }
    },
    {
      "cell_type": "code",
      "execution_count": null,
      "metadata": {
        "id": "iv646tRGZv0I",
        "cellView": "form"
      },
      "outputs": [],
      "source": [
        "#\n",
        "#,figsize=(4,50)\n",
        "#representation of the month grouped by year with strfmt\n",
        "grouped_vmvbu=vmvbu.groupby('YEAR_MONTH').size().to_frame(\"Bicycling Incidents\").reset_index()\n",
        "grouped_vmvbu.plot.bar(x='YEAR_MONTH',y='Bicycling Incidents',figsize=(40,4),title='NYC Collisions- Crashes\\n by YEAR MONTH\\n07-01-2012  -  07-31-2022')\n",
        "plt.xticks(rotation=85)\n",
        "plt.show()"
      ]
    },
    {
      "cell_type": "code",
      "source": [
        "#\n",
        "\n",
        "vmvbu.YEAR_MONTH.value_counts().sort_index().plot(kind='line')\n",
        "plt.xticks(range(1,123,1),rotation=85)\n",
        "plt.xlabel('Months')\n",
        "plt.ylabel('')"
      ],
      "metadata": {
        "id": "08AYtMX9mhUO"
      },
      "execution_count": null,
      "outputs": []
    },
    {
      "cell_type": "code",
      "source": [
        "#\n",
        "plt.figure(figsize=(6,4))\n",
        "vmvbu.DAY.value_counts().sort_index().plot(kind='line')\n",
        "plt.xticks(range(1,32,1),[str(x)+'' for x in range(1,32,1)],rotation=85)\n",
        "plt.xlabel('DAILY TOTALS 2012-2018')\n",
        "plt.ylabel('')\n",
        "#trying to see if there is any correlation to days/time of month"
      ],
      "metadata": {
        "id": "yHtgmL24yy8V",
        "cellView": "form"
      },
      "execution_count": null,
      "outputs": []
    },
    {
      "cell_type": "markdown",
      "source": [
        "#2"
      ],
      "metadata": {
        "id": "4zv7FE4EvVdv"
      }
    },
    {
      "cell_type": "code",
      "execution_count": null,
      "metadata": {
        "id": "q7_08alCSOGh",
        "cellView": "form"
      },
      "outputs": [],
      "source": [
        "#\n",
        "#'HOURLY\\nNYC - Bicyclists Collisions-Crashes\\n 07-01-2012  -  07-31-2022'\n",
        "#making the time an integer that can be sorted. \n",
        "plt.figure(figsize=(6,4))\n",
        "hourly2012_22=vmvbu['TIME'].str.split(':').str[0].astype('int').value_counts().sort_index()\n",
        "plt.bar(hourly2012_22.index,hourly2012_22.values)\n",
        "plt.xticks(range(0,24,2),[str(x)+\":00\" for x in range(0,24,2)],rotation=85)\n",
        "plt.xlabel('')\n",
        "plt.ylabel('Hourly Counts')\n",
        "plt.title('HOURLY\\n 07-01-2012  -  07-31-2022')\n",
        "plt.show()\n"
      ]
    },
    {
      "cell_type": "code",
      "source": [
        "#\n",
        "plt.figure(figsize=(6,4))\n",
        "vmvbu.YEAR.value_counts().sort_index().plot()"
      ],
      "metadata": {
        "id": "9C57OhrKpblB"
      },
      "execution_count": null,
      "outputs": []
    },
    {
      "cell_type": "code",
      "source": [
        "#\n",
        "plt.figure(figsize=(14,4))\n",
        "vmvbu.MONTH_YEAR.value_counts().sort_index().plot()"
      ],
      "metadata": {
        "id": "BGSiCiHLpl-_"
      },
      "execution_count": null,
      "outputs": []
    },
    {
      "cell_type": "code",
      "source": [
        "#\n",
        "plt.figure(figsize=(10,4))\n",
        "sns.scatterplot(data=vmvbu,x='DATE',y='AGE',hue='GENDER')\n",
        "plt.legend(bbox_to_anchor=(1.05,1),loc='upper left',borderaxespad=0)\n"
      ],
      "metadata": {
        "id": "hJ8NBxxZsv1G",
        "cellView": "form"
      },
      "execution_count": null,
      "outputs": []
    },
    {
      "cell_type": "code",
      "execution_count": null,
      "metadata": {
        "id": "IZSUTARkpAo8",
        "cellView": "form"
      },
      "outputs": [],
      "source": [
        "#\n",
        "vmvbu.groupby(['GENDER','PERSON_INJURY'])['AGE'].median().sort_values(ascending=True)"
      ]
    },
    {
      "cell_type": "code",
      "execution_count": null,
      "metadata": {
        "id": "1B_VAgVtpAo8",
        "cellView": "form"
      },
      "outputs": [],
      "source": [
        "#\n",
        "vmvbu.groupby(['GENDER','PERSON_INJURY'])['AGE'].mean().sort_values(ascending=True)"
      ]
    },
    {
      "cell_type": "code",
      "source": [
        "#\n",
        " vzvbi=sns.FacetGrid(data=vmvbu,col='POSITION_IN_VEHICLE',hue='PERSON_INJURY',height=4,aspect=2,col_wrap=2)\n",
        "vzvbi.map(sns.barplot,'PERSON_INJURY','AGE',order=['Injured','Unspecified','Killed'])\n",
        "#plt.title(\"Bicyclists Bodily InjuriesY\\nNYC Collisions-Crashes\\n2018\")"
      ],
      "metadata": {
        "cellView": "form",
        "id": "UgH3TEX2_Mn_"
      },
      "execution_count": null,
      "outputs": []
    },
    {
      "cell_type": "code",
      "source": [
        "#\n",
        "#vmvbu.plot.bar('DATE','AGE')"
      ],
      "metadata": {
        "cellView": "form",
        "id": "v9qy0VSiePjl"
      },
      "execution_count": 87,
      "outputs": []
    },
    {
      "cell_type": "markdown",
      "source": [
        "#2"
      ],
      "metadata": {
        "id": "FTy9pyDyvGhZ"
      }
    },
    {
      "cell_type": "code",
      "execution_count": null,
      "metadata": {
        "id": "Mur0BEzjrIRY",
        "cellView": "form"
      },
      "outputs": [],
      "source": [
        "#\n",
        " plt.figure(figsize=(6,4))\n",
        " yearly2012_22=vmvbu['DATE'].dt.year.value_counts().sort_index()\n",
        "plt.bar(yearly2012_22.index,yearly2012_22.values)\n",
        "plt.xlabel('CUMULATIVE YEARLY')\n",
        "plt.title('NYC Bicyclist Involved Crashes-Collisions\\nCUMULATIVE YEARLY\\n07-01-2012  -  07-31-2022')\n",
        "#plt.style.use(style='bmh')\n",
        "plt.show()"
      ]
    },
    {
      "cell_type": "code",
      "execution_count": null,
      "metadata": {
        "id": "i7THWPFnrvBH",
        "cellView": "form"
      },
      "outputs": [],
      "source": [
        "#\n",
        "print('DATE by Year total counts\\n',vmvbu['DATE'].dt.year.value_counts().sort_index())"
      ]
    },
    {
      "cell_type": "code",
      "source": [
        "#\n",
        "\n",
        "monthlyyr2012_22=vmvbu['MONTH_YEAR'].value_counts().sort_index()\n",
        "plt.figure(figsize=(30,4))\n",
        "plt.bar(monthlyyr2012_22.index,monthlyyr2012_22.values)\n",
        "plt.xticks(range(0,122,1))\n",
        "plt.xlabel('')\n",
        "plt.ylabel('Yearly count by month')\n",
        "plt.title('NYC Crashes-Collisions\\nYEARLY COUNT BY MONTH\\n07-01-2012 - 07-31-2022')\n",
        "plt.xticks(rotation=85)\n",
        "plt.show()"
      ],
      "metadata": {
        "id": "TXLgZkJB5A97",
        "cellView": "form"
      },
      "execution_count": null,
      "outputs": []
    },
    {
      "cell_type": "code",
      "execution_count": null,
      "metadata": {
        "id": "TC_NpH2mS6ft",
        "cellView": "form"
      },
      "outputs": [],
      "source": [
        "#\n",
        "plt.figure(figsize=(6,4))\n",
        "monthly2012_22=vmvbu['DATE'].dt.month.value_counts().sort_index()\n",
        "plt.bar(monthly2012_22.index,monthly2012_22.values)\n",
        "plt.xticks(range(1,13))\n",
        "plt.xlabel('')\n",
        "plt.ylabel('CUMULATIVE MONTHLY')\n",
        "plt.title('NYC Crashes-Collisions\\nCUMULATIVE MONTHLY\\n07-01-2012  -  07-31-2022')\n",
        "plt.show()"
      ]
    },
    {
      "cell_type": "code",
      "source": [
        "#\n",
        "vmvbu['PED_ROLE'].value_counts().plot.pie(figsize=(10,10),legend=True,labeldistance=None,title='Bicyclist Status due to Collision or Crash')"
      ],
      "metadata": {
        "cellView": "form",
        "id": "suTwcs5F66tp"
      },
      "execution_count": null,
      "outputs": []
    },
    {
      "cell_type": "code",
      "source": [
        "#\n",
        " gpr=sns.relplot(data=vmvbu,x='COLLISION_ID',y='AGE',col='GENDER',row='PED_ROLE',hue='GENDER',kind='scatter',legend='auto',height=6,aspect=2)\n",
        "#rp is a FacetGrid; \n",
        "#relplot is a nice organized way to use it\n",
        "gpr.fig.subplots_adjust(top=0.9)#adjust the Figure in rp\n",
        "gpr.fig.suptitle('NYC Collisions-Crashes\\nDRIVER PASSENGER - Collision ID\\n07-01-2012  -  07-31-2022')"
      ],
      "metadata": {
        "id": "xzxOtBQxCDez",
        "cellView": "form"
      },
      "execution_count": null,
      "outputs": []
    },
    {
      "cell_type": "code",
      "source": [
        "#\n",
        " vzvbi=sns.FacetGrid(data=vmvbu,col='PED_ROLE',hue='GENDER',height=4,aspect=2,col_wrap=2)\n",
        "vzvbi.map(sns.barplot,'GENDER','AGE',order=['M','F','U'])\n",
        "#plt.title(\"Bicyclists Bodily InjuriesY\\nNYC Collisions-Crashes\\n2018\")"
      ],
      "metadata": {
        "cellView": "form",
        "id": "rNUm6VBg-odf"
      },
      "execution_count": null,
      "outputs": []
    },
    {
      "cell_type": "code",
      "source": [
        "#\n",
        "vmvbu['PERSON_INJURY'].value_counts().plot.pie(figsize=(10,10),legend=True,labeldistance=None,title='Bicyclist Status due to Collision or Crash')"
      ],
      "metadata": {
        "cellView": "form",
        "id": "CxFmJPce3Rng"
      },
      "execution_count": null,
      "outputs": []
    },
    {
      "cell_type": "code",
      "source": [
        "#\n",
        " gpi=sns.relplot(data=vmvbu,x='COLLISION_ID',y='AGE',col='GENDER',row='PERSON_INJURY',hue='GENDER',kind='scatter',legend='auto',height=6,aspect=2)\n",
        "#rp is a FacetGrid; \n",
        "#relplot is a nice organized way to use it\n",
        "gpi.fig.subplots_adjust(top=0.93)#adjust the Figure in rp\n",
        "gpi.fig.suptitle('NYC Collisions-Crashes\\nINJURED KILLED UNSPECIFIED - Collision ID\\n07-01-2012  -  07-31-2022')"
      ],
      "metadata": {
        "cellView": "form",
        "id": "r4hrTKZ1Ogft"
      },
      "execution_count": null,
      "outputs": []
    },
    {
      "cell_type": "code",
      "source": [
        "#\n",
        "vzv=sns.FacetGrid(data=vmvbu,col='PERSON_INJURY',hue='GENDER',height=4,aspect=1.25)\n",
        "vzv.map(sns.barplot,'GENDER','AGE',order=['M','F','U'])"
      ],
      "metadata": {
        "cellView": "form",
        "id": "-_5UhXWq0cyn"
      },
      "execution_count": null,
      "outputs": []
    },
    {
      "cell_type": "code",
      "source": [
        "#\n",
        "vmvbu['EMOTIONAL_STATUS'].value_counts().plot.pie(figsize=(10,10),legend=True,labeldistance=None,title='Bicyclist Status due to Collision or Crash')"
      ],
      "metadata": {
        "cellView": "form",
        "id": "O5qNmC6J4RAu"
      },
      "execution_count": null,
      "outputs": []
    },
    {
      "cell_type": "code",
      "source": [
        "#\n",
        " gesr=sns.relplot(data=vmvbu,x='COLLISION_ID',y='AGE',col='GENDER',row='EMOTIONAL_STATUS',hue='GENDER',kind='scatter',legend='auto',height=6,aspect=2)\n",
        "#rp is a FacetGrid; \n",
        "#relplot is a nice organized way to use it\n",
        "gesr.fig.subplots_adjust(top=0.96)#adjust the Figure in rp\n",
        "gesr.fig.suptitle('NYC Collisions-Crashes\\nEMOTIONAL STATUS - Collision ID\\n07-01-2012  -  07-31-2022')"
      ],
      "metadata": {
        "cellView": "form",
        "id": "gyLf7CJMCzSF"
      },
      "execution_count": null,
      "outputs": []
    },
    {
      "cell_type": "code",
      "source": [
        "#\n",
        "vzvbi=sns.FacetGrid(data=vmvbu,col='EMOTIONAL_STATUS',hue='GENDER',height=4,aspect=1.25,col_wrap=4)\n",
        "vzvbi.map(sns.barplot,'GENDER','AGE',order=['M','F','U'])"
      ],
      "metadata": {
        "cellView": "form",
        "id": "LpNLlYJlvo4A"
      },
      "execution_count": null,
      "outputs": []
    },
    {
      "cell_type": "code",
      "source": [
        "#\n",
        "vmvbu['COMPLAINT'].value_counts().plot.pie(figsize=(10,10),legend=True,labeldistance=None,title='Bicyclist Status due to Collision or Crash')"
      ],
      "metadata": {
        "id": "d31NPFRZ7TXl",
        "cellView": "form"
      },
      "execution_count": null,
      "outputs": []
    },
    {
      "cell_type": "code",
      "source": [
        "#\n",
        "gcr=sns.relplot(data=vmvbu,x='COLLISION_ID',y='AGE',col='GENDER',row='COMPLAINT',hue='GENDER',kind='scatter',legend='auto',height=6,aspect=2)\n",
        "gcr.fig.subplots_adjust(top=0.97)\n",
        "gcr.fig.suptitle('NYC Collisions-Crashes\\nCOMPLAINT - Collision ID\\n07-01-2012  -  07-31-2022')"
      ],
      "metadata": {
        "cellView": "form",
        "id": "uVLpaU3wDMFY"
      },
      "execution_count": null,
      "outputs": []
    },
    {
      "cell_type": "code",
      "source": [
        "#\n",
        "vzvbi=sns.FacetGrid(data=vmvbu,col='COMPLAINT',hue='GENDER',height=4,aspect=1.25,col_wrap=3)\n",
        "vzvbi.map(sns.barplot,'GENDER','AGE',order=['M','F','U'])\n",
        "#plt.title(\"Bicyclists Bodily InjuriesY\\nNYC Collisions-Crashes\\n2018\")"
      ],
      "metadata": {
        "cellView": "form",
        "id": "R0L-XE4n7oPI"
      },
      "execution_count": null,
      "outputs": []
    },
    {
      "cell_type": "code",
      "source": [
        "#\n",
        "vmvbu['BODILY_INJURY'].value_counts().plot.pie(figsize=(10,10),legend=True,labeldistance=None,title='Bicyclist Status due to Collision or Crash')"
      ],
      "metadata": {
        "id": "_pH5QtOZ3t6M",
        "cellView": "form"
      },
      "execution_count": null,
      "outputs": []
    },
    {
      "cell_type": "code",
      "source": [
        "#\n",
        " gbi=sns.relplot(data=vmvbu,x='COLLISION_ID',y='AGE',col='GENDER',row='BODILY_INJURY',hue='GENDER',kind='scatter',legend='auto',height=6,aspect=2)\n",
        "#rp is a FacetGrid; \n",
        "#relplot is a nice organized way to use it\n",
        "gbi.fig.subplots_adjust(top=0.97)#adjust the Figure in rp\n",
        "gbi.fig.suptitle('NYC Collisions-Crashes\\nBODILY INJURY - Collision ID\\n07-01-2012  -  07-31-2022')"
      ],
      "metadata": {
        "cellView": "form",
        "id": "4bDNgyXgFCpA"
      },
      "execution_count": null,
      "outputs": []
    },
    {
      "cell_type": "code",
      "source": [
        "#\n",
        " vzvbi=sns.FacetGrid(data=vmvbu,col='BODILY_INJURY',hue='GENDER',height=4,aspect=1.25,col_wrap=7)\n",
        "vzvbi.map(sns.barplot,'GENDER','AGE',order=['M','F','U'])\n",
        "#plt.title(\"Bicyclists Bodily InjuriesY\\nNYC Collisions-Crashes\\n2018\")"
      ],
      "metadata": {
        "cellView": "form",
        "id": "PBvDYNFYhq9P"
      },
      "execution_count": null,
      "outputs": []
    },
    {
      "cell_type": "code",
      "source": [
        "#\n",
        "vmvbu['SAFETY_EQUIPMENT'].value_counts().plot.pie(figsize=(10,10),legend=True,labeldistance=None,title='Bicyclist Status due to Collision or Crash')"
      ],
      "metadata": {
        "cellView": "form",
        "id": "PMttHrnJ471f"
      },
      "execution_count": null,
      "outputs": []
    },
    {
      "cell_type": "code",
      "source": [
        "#\n",
        " gse=sns.relplot(data=vmvbu,x='COLLISION_ID',y='AGE',col='GENDER',row='SAFETY_EQUIPMENT',hue='GENDER',kind='scatter',legend='auto',height=6,aspect=2)\n",
        "#rp is a FacetGrid; \n",
        "#relplot is a nice organized way to use it\n",
        "gse.fig.subplots_adjust(top=0.97)#adjust the Figure in rp\n",
        "gse.fig.suptitle('NYC Collisions-Crashes\\nSAFETY EQUIPMENT - Collision ID\\n07-01-2012  -  07-31-2022')"
      ],
      "metadata": {
        "cellView": "form",
        "id": "1esNxGtFJzKx"
      },
      "execution_count": null,
      "outputs": []
    },
    {
      "cell_type": "code",
      "source": [
        "#\n",
        " vzvbi=sns.FacetGrid(data=vmvbu,col='SAFETY_EQUIPMENT',hue='GENDER',height=4,aspect=1.25,col_wrap=7)\n",
        "vzvbi.map(sns.barplot,'GENDER','AGE',order=['M','F','U'])\n",
        "#plt.title(\"Bicyclists Bodily InjuriesY\\nNYC Collisions-Crashes\\n2018\")"
      ],
      "metadata": {
        "cellView": "form",
        "id": "OLQeuPRJ8iSQ"
      },
      "execution_count": null,
      "outputs": []
    },
    {
      "cell_type": "code",
      "source": [
        "#\n",
        "vmvbu['POSITION_IN_VEHICLE'].value_counts().plot.pie(figsize=(10,10),legend=True,labeldistance=None,title='Bicyclist Status due to Collision or Crash')"
      ],
      "metadata": {
        "cellView": "form",
        "id": "frPqYcB96Wdn"
      },
      "execution_count": null,
      "outputs": []
    },
    {
      "cell_type": "code",
      "source": [
        "#\n",
        " gpv=sns.relplot(data=vmvbu,x='COLLISION_ID',y='AGE',col='GENDER',row='POSITION_IN_VEHICLE',hue='GENDER',kind='scatter',legend='auto',height=6,aspect=2)\n",
        "#rp is a FacetGrid; \n",
        "#relplot is a nice organized way to use it\n",
        "gpv.fig.subplots_adjust(top=0.97)#adjust the Figure in rp\n",
        "gpv.fig.suptitle('NYC Collisions-Crashes\\nPOSITION IN VEHICLE - Collision ID\\n07-01-2012  -  07-31-2022')"
      ],
      "metadata": {
        "cellView": "form",
        "id": "lC9MlAEo80B-"
      },
      "execution_count": null,
      "outputs": []
    },
    {
      "cell_type": "markdown",
      "metadata": {
        "id": "HPdYMPNYGJD-"
      },
      "source": [
        "##**DataFrame** 01/2018-2022-update on file"
      ]
    },
    {
      "cell_type": "code",
      "execution_count": 112,
      "metadata": {
        "id": "HzEFhEgUKW9y",
        "cellView": "form"
      },
      "outputs": [],
      "source": [
        "#\n",
        "vmvbu18p=pd.DataFrame(vmvbu)"
      ]
    },
    {
      "cell_type": "code",
      "execution_count": 113,
      "metadata": {
        "id": "39FNqegOGneu",
        "cellView": "form"
      },
      "outputs": [],
      "source": [
        "#\n",
        "date_biclycle=vmvbu18p[(vmvbu18p['DATE']<'2018-01-01')].index\n",
        "vmvbu18p.drop(date_biclycle,inplace=True)"
      ]
    },
    {
      "cell_type": "code",
      "execution_count": null,
      "metadata": {
        "id": "itlWmxS7FPRk",
        "cellView": "form"
      },
      "outputs": [],
      "source": [
        "#\n",
        "vmvbu18p.shape"
      ]
    },
    {
      "cell_type": "code",
      "execution_count": null,
      "metadata": {
        "id": "oyRbQmq7UlnB",
        "cellView": "form"
      },
      "outputs": [],
      "source": [
        "#\n",
        "vmvbu18p.head(2)"
      ]
    },
    {
      "cell_type": "markdown",
      "metadata": {
        "id": "lzSGOib3cnjS"
      },
      "source": [
        "###Column uniques"
      ]
    },
    {
      "cell_type": "code",
      "execution_count": null,
      "metadata": {
        "id": "qOnWHu-1cftm",
        "cellView": "form"
      },
      "outputs": [],
      "source": [
        "#\n",
        "print(vmvbu18p['GENDER'].unique())"
      ]
    },
    {
      "cell_type": "code",
      "execution_count": null,
      "metadata": {
        "id": "DZLJzb6Gcftn",
        "cellView": "form"
      },
      "outputs": [],
      "source": [
        "#\n",
        "print(vmvbu18p['PERSON_TYPE'].unique())"
      ]
    },
    {
      "cell_type": "code",
      "execution_count": null,
      "metadata": {
        "id": "PekQAuqmcftn",
        "cellView": "form"
      },
      "outputs": [],
      "source": [
        "#\n",
        "print(vmvbu18p['EMOTIONAL_STATUS'].unique())"
      ]
    },
    {
      "cell_type": "code",
      "execution_count": null,
      "metadata": {
        "id": "n78Qt6_XdNnA",
        "cellView": "form"
      },
      "outputs": [],
      "source": [
        "#\n",
        " print(vmvbu18p['BODILY_INJURY'].unique())"
      ]
    },
    {
      "cell_type": "code",
      "execution_count": null,
      "metadata": {
        "id": "9qzt06iDcftn",
        "cellView": "form"
      },
      "outputs": [],
      "source": [
        "#\n",
        " print(vmvbu18p['PERSON_INJURY'].unique())"
      ]
    },
    {
      "cell_type": "code",
      "execution_count": null,
      "metadata": {
        "id": "ALVF1DPPquvV",
        "cellView": "form"
      },
      "outputs": [],
      "source": [
        "#\n",
        " print(vmvbu18p['SAFETY_EQUIPMENT'].unique())"
      ]
    },
    {
      "cell_type": "code",
      "source": [
        "#\n",
        " print(vmvbu18p['MONTH_YEAR'].unique())"
      ],
      "metadata": {
        "id": "lB4vzVf_GP4F",
        "cellView": "form"
      },
      "execution_count": null,
      "outputs": []
    },
    {
      "cell_type": "code",
      "execution_count": null,
      "metadata": {
        "id": "3iw11jwnQtyz",
        "cellView": "form"
      },
      "outputs": [],
      "source": [
        "#\n",
        "#Total counts of Persons Injured\n",
        "print('Person Injury: \\n',vmvbu18p['PERSON_INJURY'].value_counts())"
      ]
    },
    {
      "cell_type": "code",
      "execution_count": null,
      "metadata": {
        "id": "BSf0i2FkNz55",
        "cellView": "form"
      },
      "outputs": [],
      "source": [
        "#\n",
        "#Total counts by Gender of Persons Injured\n",
        "print('Gender of Persons Injured: \\n',vmvbu18p['GENDER'].value_counts())"
      ]
    },
    {
      "cell_type": "code",
      "execution_count": null,
      "metadata": {
        "id": "REeU1SBPObMb",
        "cellView": "form"
      },
      "outputs": [],
      "source": [
        "#\n",
        "#Total counts by Emotional Status of Persons Injured\n",
        "print('Emotional Status at time of incident: \\n',vmvbu18p['EMOTIONAL_STATUS'].value_counts())"
      ]
    },
    {
      "cell_type": "code",
      "source": [
        "#\n",
        "sns.scatterplot(data=vmvbu18p,x='DATE',y='AGE',hue='GENDER')\n",
        "plt.legend(bbox_to_anchor=(1.05,1),loc='upper left',borderaxespad=0)"
      ],
      "metadata": {
        "id": "0uI-8_T7ciHD",
        "cellView": "form"
      },
      "execution_count": null,
      "outputs": []
    },
    {
      "cell_type": "code",
      "execution_count": null,
      "metadata": {
        "id": "wlMYRRMsO8uL",
        "cellView": "form"
      },
      "outputs": [],
      "source": [
        "#\n",
        "vmvbu18p.groupby( ['GENDER','PERSON_INJURY'])['AGE'].mean().sort_values(ascending=True)"
      ]
    },
    {
      "cell_type": "code",
      "execution_count": null,
      "metadata": {
        "id": "IGQs9zu4ugyb",
        "cellView": "form"
      },
      "outputs": [],
      "source": [
        "#\n",
        "vmvbu18p.groupby( ['GENDER','PERSON_INJURY'])['AGE'].median().sort_values(ascending=True)"
      ]
    },
    {
      "cell_type": "code",
      "execution_count": null,
      "metadata": {
        "id": "lngiPAW2Y-8d",
        "cellView": "form"
      },
      "outputs": [],
      "source": [
        "#\n",
        "vmvbu18p.groupby(['GENDER','EMOTIONAL_STATUS'])['AGE'].mean().sort_values(ascending=True)"
      ]
    },
    {
      "cell_type": "code",
      "execution_count": null,
      "metadata": {
        "id": "uYq71JRPfx1b",
        "cellView": "form"
      },
      "outputs": [],
      "source": [
        "#\n",
        "vmvbu18p.groupby(['GENDER','EMOTIONAL_STATUS'])['AGE'].median().sort_values(ascending=True)"
      ]
    },
    {
      "cell_type": "code",
      "execution_count": null,
      "metadata": {
        "id": "7HBIjspIXFKL",
        "cellView": "form"
      },
      "outputs": [],
      "source": [
        "#\n",
        "vmvbu18p.groupby(['GENDER','EMOTIONAL_STATUS'])['AGE'].median().sort_values(ascending=True)"
      ]
    },
    {
      "cell_type": "markdown",
      "metadata": {
        "id": "qcL5wIaDWgxD"
      },
      "source": [
        "###sort_values"
      ]
    },
    {
      "cell_type": "code",
      "execution_count": 132,
      "metadata": {
        "id": "B3J1Vv8AFda2",
        "cellView": "form"
      },
      "outputs": [],
      "source": [
        "#\n",
        "#vmvbu18p.set_index('Unique ID',inplace=True)\n",
        "#vmvbu18p.sort_values(['DATE','TIME'],ascending=True,inplace=False).head(2)"
      ]
    },
    {
      "cell_type": "markdown",
      "metadata": {
        "id": "pHgIrLdG3lCw"
      },
      "source": [
        "##**Visualizations** 2018-2022\n"
      ]
    },
    {
      "cell_type": "markdown",
      "metadata": {
        "id": "pXOCBOe75XNO"
      },
      "source": [
        "###- Vision Zero Bicycle Incidencts 01/2018 - 07/2022"
      ]
    },
    {
      "cell_type": "code",
      "source": [
        "#\n",
        "plt.figure(figsize=(6,8))\n",
        "x=pd.value_counts(vmvbu18p['SAFETY_EQUIPMENT'].values, sort=True)\n",
        "x.plot.bar()\n",
        "print(vmvbu18p['SAFETY_EQUIPMENT'].value_counts())\n",
        "#sns.lmplot(data=vmvbu18p,x=x,y='AGE',col='PERSON_INJURY',hue='GENDER')\n",
        "#grouped_vmvbu18p.set_xticklabels(grouped_vmvbu18p.get_xticklabels(),rotation=30)"
      ],
      "metadata": {
        "id": "Dp6ULi_QGLqY"
      },
      "execution_count": null,
      "outputs": []
    },
    {
      "cell_type": "code",
      "execution_count": null,
      "metadata": {
        "id": "33Yu9e6pWhEY",
        "cellView": "form"
      },
      "outputs": [],
      "source": [
        "#\n",
        "#create a representation of the month with strfmt\n",
        "grouped_vmvbu18p=vmvbu18p.groupby('YEAR_MONTH').size().to_frame('Bicycling Incidents').reset_index()\n",
        "grouped_vmvbu18p.plot(kind='bar',x='YEAR_MONTH',y='Bicycling Incidents',figsize=(20,4),title='YEAR MONTH\\nNYC Collisions-Crashes\\n 01-01-2018 - 07-31-2022')\n",
        "plt.xticks(rotation=85)\n",
        "plt.show()\n",
        "\n"
      ]
    },
    {
      "cell_type": "code",
      "execution_count": null,
      "metadata": {
        "id": "my1uZsM0pVy-",
        "cellView": "form"
      },
      "outputs": [],
      "source": [
        "#\n",
        "vmvbu18p['MONTH_YEAR']=vmvbu18p['DATE'].map(lambda dt: dt.strftime('%m-%Y'))\n",
        "grouped_vmvbu18p=vmvbu18p.groupby('MONTH_YEAR').size().to_frame(\"Bicycling Incidents\").reset_index()\n",
        "grouped_vmvbu18p.plot(kind='bar',x='MONTH_YEAR',y='Bicycling Incidents',figsize=(20,4),title='MONTH YEAR\\nNYC Collisions-Crashes\\n 01-01-2018  -  07-31-2022')\n",
        "plt.xticks(rotation=85)\n",
        "plt.show()\n"
      ]
    },
    {
      "cell_type": "code",
      "execution_count": null,
      "metadata": {
        "id": "uYlCO7atR033"
      },
      "outputs": [],
      "source": [
        "plt.figure(figsize=(6,8))\n",
        "hourly2018_22=vmvbu18p['TIME'].str.split(':').str[0].astype('int').value_counts().sort_index()\n",
        "plt.bar(hourly2018_22.index,hourly2018_22.values)\n",
        "plt.xticks(range(0,24,2),[str(x)+\":00\" for x in range(0,24,2)])\n",
        "plt.xlabel('')\n",
        "plt.ylabel('Bicycling Incidents')\n",
        "plt.title('HOURLY\\nNYC Collisions-Crashes\\n 01-01-2018 - 07-31-2022')\n",
        "plt.xticks(rotation=85)\n",
        "plt.show()"
      ]
    },
    {
      "cell_type": "code",
      "execution_count": null,
      "metadata": {
        "id": "L0rkEBwnQKqx"
      },
      "outputs": [],
      "source": [
        "plt.figure(figsize=(6,8))\n",
        "monthy2018_22=vmvbu18p['DATE'].dt.month.value_counts().sort_index()\n",
        "plt.bar(monthy2018_22.index,monthy2018_22.values)\n",
        "plt.xticks(range(1,13))\n",
        "plt.xlabel('')\n",
        "plt.ylabel('Bicycling Incidents')\n",
        "plt.title('MONTHLY\\nNYC Crashes-Collisions\\n 01-01-2018 - 07-31-2022')\n",
        "plt.show()\n",
        "#2018 Higher crashes during the warmer months..increased usage of bikes - large touristic,schools out,additional drivers,additional bike share users. "
      ]
    },
    {
      "cell_type": "code",
      "source": [
        "#\n",
        "pd.pivot_table(vmvbu18p.reset_index(),index='DATE', columns='GENDER', values='AGE').plot(alpha=0.8)"
      ],
      "metadata": {
        "id": "su4qwZzHSgE2",
        "cellView": "form"
      },
      "execution_count": null,
      "outputs": []
    },
    {
      "cell_type": "code",
      "source": [
        "#\n",
        "print('Count of Incidents Catagorized by Gender:\\n',vmvbu18p.groupby(['PERSON_INJURY','GENDER'])['AGE'].count().sort_values(ascending=False))"
      ],
      "metadata": {
        "id": "RxU3mYFBTTXE",
        "cellView": "form"
      },
      "execution_count": null,
      "outputs": []
    },
    {
      "cell_type": "code",
      "execution_count": null,
      "metadata": {
        "id": "htVtGlFHo7Ks",
        "cellView": "form"
      },
      "outputs": [],
      "source": [
        "#\n",
        "vmvbu18p.groupby(['GENDER','PERSON_INJURY'])['AGE'].mean().sort_values(ascending=True)"
      ]
    },
    {
      "cell_type": "code",
      "execution_count": null,
      "metadata": {
        "id": "xe52uhIHo7Ks",
        "cellView": "form"
      },
      "outputs": [],
      "source": [
        "#\n",
        "vmvbu18p.groupby(['GENDER','PERSON_INJURY'])['AGE'].median().sort_values(ascending=True)"
      ]
    },
    {
      "cell_type": "code",
      "source": [
        "plt.figure(figsize=(6,8))\n",
        "pd.pivot_table(vmvbu18p.reset_index(),index='DATE', columns='PERSON_INJURY', values='AGE').plot(kind='hist', alpha=0.6)"
      ],
      "metadata": {
        "id": "4haBXTv0Pzp4"
      },
      "execution_count": null,
      "outputs": []
    },
    {
      "cell_type": "code",
      "source": [
        "#\n",
        "vmvbu18p.groupby(['PERSON_INJURY','GENDER'])['AGE'].mean()"
      ],
      "metadata": {
        "id": "aBTNezmZZl2D",
        "cellView": "form"
      },
      "execution_count": null,
      "outputs": []
    },
    {
      "cell_type": "code",
      "execution_count": null,
      "metadata": {
        "id": "TjWE5Lm3o7Ks",
        "cellView": "form"
      },
      "outputs": [],
      "source": [
        "#\n",
        "vmvbu18p.groupby(['PERSON_INJURY','GENDER'])['AGE'].median()"
      ]
    },
    {
      "cell_type": "code",
      "execution_count": null,
      "metadata": {
        "id": "JUI1FYqPo7Ks",
        "cellView": "form"
      },
      "outputs": [],
      "source": [
        "#\n",
        "vmvbu18p.groupby(['EMOTIONAL_STATUS','GENDER',])['AGE'].mean()"
      ]
    },
    {
      "cell_type": "code",
      "execution_count": null,
      "metadata": {
        "id": "o66udf2po7Ks",
        "cellView": "form"
      },
      "outputs": [],
      "source": [
        "#\n",
        "vmvbu18p.groupby(['EMOTIONAL_STATUS','GENDER'])['AGE'].median().sort_values(ascending=True)"
      ]
    },
    {
      "cell_type": "code",
      "execution_count": null,
      "metadata": {
        "id": "ZHPSAZWj3W9r",
        "cellView": "form"
      },
      "outputs": [],
      "source": [
        "#\n",
        "print('Rows: \\n','Columns: \\n',vmvbu18p.shape)"
      ]
    },
    {
      "cell_type": "code",
      "execution_count": null,
      "metadata": {
        "id": "4HBv692zI2Cv",
        "cellView": "form"
      },
      "outputs": [],
      "source": [
        "#\n",
        "vmvbu18p.info()"
      ]
    },
    {
      "cell_type": "code",
      "execution_count": null,
      "metadata": {
        "id": "UZ6xSF9Go7Ks",
        "cellView": "form"
      },
      "outputs": [],
      "source": [
        "#\n",
        "#Total counts by Emotional Status of Persons Injured\n",
        "print('Person Injury: \\n',vmvbu18p['GENDER'].value_counts())"
      ]
    },
    {
      "cell_type": "markdown",
      "metadata": {
        "id": "RkMv0kkNE4DT"
      },
      "source": [
        "##**DataFrame** - 2018 "
      ]
    },
    {
      "cell_type": "code",
      "execution_count": 150,
      "metadata": {
        "id": "3Z-7iSN91S78",
        "cellView": "form"
      },
      "outputs": [],
      "source": [
        "#\n",
        " vzb2018i=pd.DataFrame(vmvbu18p)"
      ]
    },
    {
      "cell_type": "code",
      "execution_count": 151,
      "metadata": {
        "id": "M9ve7Vfm04-I",
        "cellView": "form"
      },
      "outputs": [],
      "source": [
        "#\n",
        " only2018bi=vzb2018i[(vzb2018i['DATE'] < '2018-01-01') | (vzb2018i['DATE'] > '2018-12-31')].index\n",
        "vzb2018i.drop(only2018bi,inplace=True)"
      ]
    },
    {
      "cell_type": "markdown",
      "metadata": {
        "id": "lbmX3-Yro7Kr"
      },
      "source": [
        "###Column uniques"
      ]
    },
    {
      "cell_type": "code",
      "execution_count": null,
      "metadata": {
        "id": "NCG_ceXUo7Kr",
        "cellView": "form"
      },
      "outputs": [],
      "source": [
        "#\n",
        "print(vzb2018i['GENDER'].unique())"
      ]
    },
    {
      "cell_type": "code",
      "execution_count": null,
      "metadata": {
        "id": "6GxLK9o8o7Kr",
        "cellView": "form"
      },
      "outputs": [],
      "source": [
        "#\n",
        "print(vzb2018i['PERSON_TYPE'].unique())"
      ]
    },
    {
      "cell_type": "code",
      "execution_count": null,
      "metadata": {
        "id": "sdcBzUloo7Kr",
        "cellView": "form"
      },
      "outputs": [],
      "source": [
        "#\n",
        "print(vzb2018i['EMOTIONAL_STATUS'].unique())"
      ]
    },
    {
      "cell_type": "code",
      "execution_count": null,
      "metadata": {
        "id": "FU_gHWeco7Kr",
        "cellView": "form"
      },
      "outputs": [],
      "source": [
        "#\n",
        "print(vzb2018i['BODILY_INJURY'].unique())"
      ]
    },
    {
      "cell_type": "code",
      "execution_count": null,
      "metadata": {
        "id": "PTh0vyzso7Kr",
        "cellView": "form"
      },
      "outputs": [],
      "source": [
        "#\n",
        "print(vzb2018i['PERSON_INJURY'].unique())"
      ]
    },
    {
      "cell_type": "markdown",
      "metadata": {
        "id": "psw3GqyZ9XUU"
      },
      "source": [
        "##**Visualization** - 2018"
      ]
    },
    {
      "cell_type": "markdown",
      "metadata": {
        "id": "B8hjBzpgP5EM"
      },
      "source": [
        "####- Vision Zero Bicycle Incidencts 01/2018 - 12/2018"
      ]
    },
    {
      "cell_type": "code",
      "execution_count": null,
      "metadata": {
        "id": "CAuds4pyKchW"
      },
      "outputs": [],
      "source": [
        "plt.figure(figsize=(6,8))\n",
        " vzb18mc=vzb2018i['DATE'].dt.month.value_counts().sort_index()\n",
        "plt.bar(vzb18mc.index,vzb18mc.values)\n",
        "plt.xticks(range(1,13))\n",
        "plt.xlabel('')\n",
        "plt.ylabel('Bicycle Incidents')\n",
        "plt.title('MONTHLY\\nNYC Collisions-Crashes\\n2018')\n",
        "plt.show()\n",
        "#2018 Higher crashes during the warmer months..increased usage of bikes. august is a large touristic(additional drivers,additional bike share users) month. "
      ]
    },
    {
      "cell_type": "markdown",
      "metadata": {
        "id": "KNXw001CHPhH"
      },
      "source": [
        "2018 Higher crashes during the warmer months..increased usage of bikes. august is a large touristic(additional drivers,additional bike share users) month. "
      ]
    },
    {
      "cell_type": "code",
      "execution_count": null,
      "metadata": {
        "id": "jr9xjNTQZlZo"
      },
      "outputs": [],
      "source": [
        "plt.figure(figsize=(6,8))\n",
        " vzb18ctc=vzb2018i['TIME'].str.split(':').str[0].astype('int').value_counts().sort_index()\n",
        "plt.bar(vzb18ctc.index,vzb18ctc.values)\n",
        "plt.xticks(range(0,24,4),[str(x)+\":00\" for x in range(0,24,4)])\n",
        "plt.xlabel('')\n",
        "plt.ylabel('Bicycle Incidents')\n",
        "plt.title('HOURLY\\nNYC Collisions-Crashes\\n2018')\n",
        "plt.show()"
      ]
    },
    {
      "cell_type": "code",
      "execution_count": null,
      "metadata": {
        "id": "k34CJ1LMruEB"
      },
      "outputs": [],
      "source": [
        "plt.figure(figsize=(6,8))\n",
        "#create a representation of the month with strfmt\n",
        "vzb2018i['MONTH_YEAR']=vzb2018i['DATE'].map(lambda dt: dt.strftime('%Y-%m'))\n",
        "grouped_vzb2018i=vzb2018i.groupby('MONTH_YEAR').size().to_frame(\"count\").reset_index()\n",
        "grouped_vzb2018i.plot(kind='bar',x='MONTH_YEAR',y='count')\n",
        "#sns.lmplot(data=vzb2018i,x='COLLISION_ID',y='TIME',col='PERSON_INJURY',hue='GENDER')"
      ]
    },
    {
      "cell_type": "code",
      "execution_count": 159,
      "metadata": {
        "id": "EfFZ61yp-tvI",
        "cellView": "form"
      },
      "outputs": [],
      "source": [
        "#\n",
        " "
      ]
    },
    {
      "cell_type": "code",
      "execution_count": null,
      "metadata": {
        "id": "L388t6Bh-tvJ"
      },
      "outputs": [],
      "source": [
        "plt.figure(figsize=(6,8))\n",
        " vzbctc=vzb2018i['TIME'].str.split(':').str[0].astype('int').value_counts().sort_index()\n",
        "plt.bar(vzbctc.index,vzbctc.values)\n",
        "plt.xticks(range(0,24,4),[str(x)+\":00\" for x in range(0,24,4)])\n",
        "plt.xlabel('Hourly')\n",
        "plt.ylabel('Count')\n",
        "plt.title('Crashes or Collisions Involving a Bike in NYC 2018 Hourly Counts')\n",
        "plt.show()"
      ]
    },
    {
      "cell_type": "code",
      "execution_count": null,
      "metadata": {
        "id": "fcBmyUlx-tvJ"
      },
      "outputs": [],
      "source": [
        "plt.figure(figsize=(6,8))\n",
        "#create a representation of the month with strfmt\n",
        "vzb2018i['MONTH_YEAR']=vzb2018i['DATE'].map(lambda dt: dt.strftime('%Y-%m'))\n",
        "grouped_vzb2018i=vzb2018i.groupby('MONTH_YEAR').size().to_frame(\"count\").reset_index()\n",
        "grouped_vzb2018i.plot(kind='bar',x='MONTH_YEAR',y='count')\n",
        "#sns.lmplot(data=vzb2018i,x='COLLISION_ID',y='TIME',col='PERSON_INJURY',hue='GENDER')"
      ]
    },
    {
      "cell_type": "code",
      "execution_count": null,
      "metadata": {
        "id": "dplGBkyQ-tvJ",
        "cellView": "form"
      },
      "outputs": [],
      "source": [
        "#\n",
        "print(vzb2018i['BODILY_INJURY'].unique())"
      ]
    },
    {
      "cell_type": "code",
      "execution_count": null,
      "metadata": {
        "id": "FBU_boLN-tvJ",
        "cellView": "form"
      },
      "outputs": [],
      "source": [
        "#\n",
        "print('Bodily Injury: \\n',vzb2018i['BODILY_INJURY'].value_counts())"
      ]
    },
    {
      "cell_type": "code",
      "execution_count": null,
      "metadata": {
        "id": "dY3Xuc9_-tvJ",
        "cellView": "form"
      },
      "outputs": [],
      "source": [
        "#\n",
        "print('Bicyclists involved Gender count:\\n',vzb2018i['GENDER'].value_counts())"
      ]
    },
    {
      "cell_type": "code",
      "execution_count": null,
      "metadata": {
        "id": "QoGSxGbN-tvJ",
        "cellView": "form"
      },
      "outputs": [],
      "source": [
        "#\n",
        " vzb2018i['BODILY_INJURY'].value_counts().plot.pie(figsize=(14,14),labeldistance=None,legend=True,title='2018 Bicyclist Bodily Injuries due to Collision or Crash')\n",
        "#"
      ]
    },
    {
      "cell_type": "markdown",
      "source": [
        "###\"Bicyclists Bodily Injuries\\nNYC Collisions-Crashes\\n2018\"\n"
      ],
      "metadata": {
        "id": "z274ZxarIpxm"
      }
    },
    {
      "cell_type": "code",
      "source": [
        "#\n",
        " vzvb=sns.FacetGrid(data=vzb2018i,col='BODILY_INJURY',hue='GENDER',height=4,aspect=1.25,col_wrap=2)\n",
        "vzvb.map(sns.barplot,'GENDER','AGE',order=['M','F','U'])\n",
        "#plt.title(\"Bicyclists Bodily InjuriesY\\nNYC Collisions-Crashes\\n2018\")"
      ],
      "metadata": {
        "id": "YiSbTd-A8qxz",
        "cellView": "form"
      },
      "execution_count": null,
      "outputs": []
    },
    {
      "cell_type": "code",
      "execution_count": null,
      "metadata": {
        "id": "BjEhCcGU-tvK",
        "cellView": "form"
      },
      "outputs": [],
      "source": [
        "#\n",
        "plt.figure(figsize=(28,5))\n",
        "sns.barplot(data=vzb2018i,x='BODILY_INJURY',y='AGE',hue='GENDER',order=['Unknown','Head','Neck','Shoulder-Upper Arm','Face','Eye','Elbow-Lower Arm-Hand','Chest','Abdomen-Pelvis','Entire Body','Knee-Lower Leg Foot','Back','Hip-Upper Leg','Does Not Apply'])\n",
        "plt.title(\"Bicyclists Bodily InjuriesY\\nNYC Collisions-Crashes\\n2018\")\n",
        "plt.show()"
      ]
    },
    {
      "cell_type": "markdown",
      "source": [
        "###\"Bicyclists Emotional Status\\nNYC Collisions-Crashes\\n2018\""
      ],
      "metadata": {
        "id": "V5Tt9notLRqv"
      }
    },
    {
      "cell_type": "code",
      "execution_count": null,
      "metadata": {
        "id": "xjwN0590-tvM",
        "cellView": "form"
      },
      "outputs": [],
      "source": [
        "#\n",
        "print('Emotional Status: \\n',vzb2018i['EMOTIONAL_STATUS'].value_counts())"
      ]
    },
    {
      "cell_type": "code",
      "execution_count": null,
      "metadata": {
        "id": "BDodUa-b-tvM",
        "cellView": "form"
      },
      "outputs": [],
      "source": [
        "#\n",
        " vzb2018i['EMOTIONAL_STATUS'].value_counts().plot.pie(figsize=(14,14),legend=True,labeldistance=None,title='2018 Bicyclist Emotional Status at Time of Collision or Crash')"
      ]
    },
    {
      "cell_type": "code",
      "source": [
        "#\n",
        " vzvb=sns.FacetGrid(data=vzb2018i,col='EMOTIONAL_STATUS',hue='GENDER',height=4,aspect=1.25,col_wrap=2)\n",
        "vzvb.map(sns.barplot,'GENDER','AGE',order=['M','F','U'])"
      ],
      "metadata": {
        "cellView": "form",
        "id": "wJtqRc-wK9k6"
      },
      "execution_count": null,
      "outputs": []
    },
    {
      "cell_type": "code",
      "execution_count": null,
      "metadata": {
        "id": "eI9Kdx7W-tvM",
        "cellView": "form"
      },
      "outputs": [],
      "source": [
        "#\n",
        "plt.figure(figsize=(31,5))\n",
        "sns.barplot(data=vzb2018i,x='EMOTIONAL_STATUS',y='AGE',hue='GENDER',order=['Unknown','Conscious','Semiconscious','Unconscious','Shock','Incoherent','Apparent Death','Does Not Apply'])\n",
        "plt.title(\"2018 Emotional Status of Bicyclist in a crash or Collision\")\n",
        "plt.show()\n",
        "#Unknown seem to be soley concious"
      ]
    },
    {
      "cell_type": "code",
      "execution_count": null,
      "metadata": {
        "id": "kLI6c9zO-tvM",
        "cellView": "form"
      },
      "outputs": [],
      "source": [
        "#\n",
        "sns.pairplot(data=vzb2018i,hue='EMOTIONAL_STATUS',palette='Spectral_r') "
      ]
    },
    {
      "cell_type": "code",
      "execution_count": null,
      "metadata": {
        "id": "hAJxgI9g-tvN",
        "cellView": "form"
      },
      "outputs": [],
      "source": [
        "#\n",
        "print('Person Injury: \\n',vzb2018i['PERSON_INJURY'].value_counts())"
      ]
    },
    {
      "cell_type": "code",
      "execution_count": null,
      "metadata": {
        "id": "Q1NQNGo5-tvN",
        "cellView": "form"
      },
      "outputs": [],
      "source": [
        "#\n",
        " vzb2018i['PERSON_INJURY'].value_counts().sum()"
      ]
    },
    {
      "cell_type": "code",
      "execution_count": null,
      "metadata": {
        "id": "8uKd2Yys-tvN",
        "cellView": "form"
      },
      "outputs": [],
      "source": [
        "#\n",
        " vzb2018i['PERSON_INJURY'].value_counts().plot.pie(figsize=(14,14),legend=True,labeldistance=None,title='2018 Bicyclist Status due to Collision or Crash')"
      ]
    },
    {
      "cell_type": "code",
      "execution_count": null,
      "metadata": {
        "id": "Hrb84AKH-tvN",
        "cellView": "form"
      },
      "outputs": [],
      "source": [
        "#\n",
        "plt.figure(figsize=(14,5))\n",
        "sns.barplot(data=vzb2018i,x='PERSON_INJURY',y='AGE',hue='GENDER',order=['Killed','Injured','Unspecified'])\n",
        "plt.title(\"2018 Injury Status of Bicyclist because of a crash or Collision\")\n",
        "plt.show()\n",
        "#U"
      ]
    },
    {
      "cell_type": "code",
      "execution_count": null,
      "metadata": {
        "id": "JrHRj0Pbo7Kr",
        "cellView": "form"
      },
      "outputs": [],
      "source": [
        "#\n",
        "print(vzb2018i['SAFETY_EQUIPMENT'].unique())"
      ]
    },
    {
      "cell_type": "code",
      "execution_count": null,
      "metadata": {
        "id": "rU4fV1V-o7Kr",
        "cellView": "form"
      },
      "outputs": [],
      "source": [
        "#\n",
        "#Total counts of Persons Injured\n",
        "print('Person Injury: \\n',vzb2018i['PERSON_INJURY'].value_counts())"
      ]
    },
    {
      "cell_type": "code",
      "execution_count": null,
      "metadata": {
        "id": "dRE15UpTo7Ks",
        "cellView": "form"
      },
      "outputs": [],
      "source": [
        "#\n",
        "#Total counts by Gender of Persons Injured\n",
        "print('Person Injury: \\n',vzb2018i['GENDER'].value_counts().plot())"
      ]
    },
    {
      "cell_type": "code",
      "execution_count": null,
      "metadata": {
        "id": "e0twBg0E-tvN",
        "cellView": "form"
      },
      "outputs": [],
      "source": [
        "#\n",
        " sns.pairplot(data=vzb2018i,hue='GENDER') "
      ]
    },
    {
      "cell_type": "code",
      "execution_count": null,
      "metadata": {
        "id": "3BzzuYT7-tvN",
        "cellView": "form"
      },
      "outputs": [],
      "source": [
        "#\n",
        " vzb2018i.groupby(['GENDER','PERSON_INJURY'])['AGE'].mean().sort_values(ascending=True)"
      ]
    },
    {
      "cell_type": "code",
      "execution_count": 182,
      "metadata": {
        "id": "-D3pIiMZgTU0",
        "cellView": "form"
      },
      "outputs": [],
      "source": [
        "#\n",
        "#sns.plot(data=vzb2018i.groupby(['GENDER','PERSON_INJURY'])[ 'AGE'].mean().sort_values(ascending=True)"
      ]
    },
    {
      "cell_type": "code",
      "execution_count": null,
      "metadata": {
        "id": "fkPQSVzt-tvN",
        "cellView": "form"
      },
      "outputs": [],
      "source": [
        "#\n",
        " sns.pairplot(data=vzb2018i,hue='PERSON_INJURY',height=2.5) "
      ]
    },
    {
      "cell_type": "code",
      "execution_count": null,
      "metadata": {
        "id": "jmc2CNFUfW-O",
        "cellView": "form"
      },
      "outputs": [],
      "source": [
        "#\n",
        " vzb2018i.groupby(['GENDER','BODILY_INJURY'])['AGE'].mean().sort_values(ascending=True)"
      ]
    },
    {
      "cell_type": "code",
      "execution_count": null,
      "metadata": {
        "id": "FsOKAcwZ-tvN",
        "cellView": "form"
      },
      "outputs": [],
      "source": [
        "#\n",
        " sns.pairplot(data=vzb2018i,hue='BODILY_INJURY') "
      ]
    },
    {
      "cell_type": "code",
      "execution_count": null,
      "metadata": {
        "id": "TLdMJ81Ufl7L",
        "cellView": "form"
      },
      "outputs": [],
      "source": [
        "#\n",
        " vzb2018i.groupby(['GENDER','PED_ROLE'])['AGE'].mean().sort_values(ascending=True)"
      ]
    },
    {
      "cell_type": "code",
      "execution_count": null,
      "metadata": {
        "id": "R0AhzfWi-tvO",
        "cellView": "form"
      },
      "outputs": [],
      "source": [
        "#\n",
        " sns.pairplot(data=vzb2018i,hue='PED_ROLE') "
      ]
    },
    {
      "cell_type": "code",
      "execution_count": null,
      "metadata": {
        "id": "XvsHqo-5f605",
        "cellView": "form"
      },
      "outputs": [],
      "source": [
        "#\n",
        " vzb2018i.groupby(['GENDER','EMOTIONAL_STATUS'])['AGE'].mean().sort_values(ascending=True)"
      ]
    },
    {
      "cell_type": "code",
      "execution_count": null,
      "metadata": {
        "id": "d1914F0d-tvO",
        "cellView": "form"
      },
      "outputs": [],
      "source": [
        "#\n",
        " sns.pairplot(data=vzb2018i,hue='EMOTIONAL_STATUS') "
      ]
    },
    {
      "cell_type": "code",
      "execution_count": null,
      "metadata": {
        "id": "xHUnaTbybhD1",
        "cellView": "form"
      },
      "outputs": [],
      "source": [
        "#\n",
        "print('Bodily Injury: \\n',vzb2018i['BODILY_INJURY'].value_counts())"
      ]
    },
    {
      "cell_type": "code",
      "execution_count": null,
      "metadata": {
        "id": "9sKkrv26Lz1n",
        "cellView": "form"
      },
      "outputs": [],
      "source": [
        "#\n",
        "print('Bicyclists involved Gender count:\\n',vzb2018i['GENDER'].value_counts())"
      ]
    },
    {
      "cell_type": "code",
      "execution_count": null,
      "metadata": {
        "id": "mAa7X2RSEgiT",
        "cellView": "form"
      },
      "outputs": [],
      "source": [
        "#\n",
        " vzb2018i['BODILY_INJURY'].value_counts().plot.pie(figsize=(14,14),legend=True,labeldistance=None,title='2018 Bicyclist Bodily Injuries due to Collision or Crash')"
      ]
    },
    {
      "cell_type": "code",
      "execution_count": null,
      "metadata": {
        "id": "ZGHXnHhhx4JA",
        "cellView": "form"
      },
      "outputs": [],
      "source": [
        "#\n",
        "plt.figure(figsize=(34,5))\n",
        "sns.barplot(data=vzb2018i,x='BODILY_INJURY',y='AGE',hue='GENDER',order=['Unknown','Head','Neck','Shoulder-Upper Arm','Face','Eye','Elbow-Lower Arm-Hand','Chest','Abdomen-Pelvis','Entire Body','Knee-Lower Leg Foot','Back','Hip-Upper Leg','Does Not Apply'])\n",
        "plt.title(\"2018 Bodily Injuries of Bicyclist in a crash or Collision\")\n",
        "plt.show()"
      ]
    },
    {
      "cell_type": "code",
      "execution_count": null,
      "metadata": {
        "id": "7rf-_arnq3af",
        "cellView": "form"
      },
      "outputs": [],
      "source": [
        "#\n",
        "print('Emotional Status: \\n',vzb2018i['EMOTIONAL_STATUS'].value_counts())"
      ]
    },
    {
      "cell_type": "code",
      "execution_count": null,
      "metadata": {
        "id": "p3WUiJ0XB9V1",
        "cellView": "form"
      },
      "outputs": [],
      "source": [
        "#\n",
        " vzb2018i['EMOTIONAL_STATUS'].value_counts().plot.pie(figsize=(14,14),legend=True,labeldistance=None,title='2018 Bicyclist Emotional Status at Time of Collision or Crash')"
      ]
    },
    {
      "cell_type": "code",
      "execution_count": null,
      "metadata": {
        "id": "4Uh6c6mC-zMM",
        "cellView": "form"
      },
      "outputs": [],
      "source": [
        "#\n",
        "plt.figure(figsize=(24,5))\n",
        "sns.barplot(data=vzb2018i,x='EMOTIONAL_STATUS',y='AGE',hue='GENDER',order=['Unknown','Conscious','Semiconscious','Unconscious','Shock','Incoherent','Apparent Death','Does Not Apply'])\n",
        "plt.title(\"2018 Emotional Status of Bicyclist in a crash or Collision\")\n",
        "plt.show()\n",
        "#Unknown seem to be soley conciou"
      ]
    },
    {
      "cell_type": "code",
      "execution_count": 197,
      "metadata": {
        "id": "vmJVonv3UErf",
        "cellView": "form"
      },
      "outputs": [],
      "source": [
        "#\n",
        "#sns.pairplot(data=vzb2018i,hue='EMOTIONAL_STATUS',palette='Spectral_r') "
      ]
    },
    {
      "cell_type": "code",
      "execution_count": null,
      "metadata": {
        "id": "MkiIpoxScFVM",
        "cellView": "form"
      },
      "outputs": [],
      "source": [
        "#\n",
        "print('Person Injury: \\n',vzb2018i['PERSON_INJURY'].value_counts())"
      ]
    },
    {
      "cell_type": "code",
      "execution_count": null,
      "metadata": {
        "id": "X2kJEmXQ2J3d",
        "cellView": "form"
      },
      "outputs": [],
      "source": [
        "#\n",
        " vzb2018i['PERSON_INJURY'].value_counts().sum()"
      ]
    },
    {
      "cell_type": "code",
      "execution_count": null,
      "metadata": {
        "id": "J1qGgstqq_45",
        "cellView": "form"
      },
      "outputs": [],
      "source": [
        "#\n",
        " vzb2018i['PERSON_INJURY'].value_counts().plot.pie(figsize=(14,14),legend=True,labeldistance=None,title='2018 Bicyclist Status due to Collision or Crash')"
      ]
    },
    {
      "cell_type": "code",
      "execution_count": null,
      "metadata": {
        "id": "LuUfsPmW4lXI",
        "cellView": "form"
      },
      "outputs": [],
      "source": [
        "#\n",
        "plt.figure(figsize=(14,5))\n",
        "sns.barplot(data=vzb2018i,x='PERSON_INJURY',y='AGE',hue='GENDER',order=['Killed','Injured','Unspecified'])\n",
        "plt.title(\"2018 Injury Status of Bicyclist because of a crash or Collision\")\n",
        "plt.show()\n",
        "#U"
      ]
    },
    {
      "cell_type": "code",
      "execution_count": null,
      "metadata": {
        "id": "R0sVmwkq8wEF",
        "cellView": "form"
      },
      "outputs": [],
      "source": [
        "#\n",
        "\n",
        "sns.relplot(kind='scatter',x='BODILY_INJURY',y='SAFETY_EQUIPMENT',hue='GENDER',alpha=.5,data=vzb2018i) \n",
        "\n",
        "plt.xticks(rotation=90)\n",
        "plt.show()"
      ]
    },
    {
      "cell_type": "code",
      "execution_count": null,
      "metadata": {
        "id": "77YbV-cAKf4U",
        "cellView": "form"
      },
      "outputs": [],
      "source": [
        "#\n",
        " sns.pairplot(data=vzb2018i,hue='GENDER') "
      ]
    },
    {
      "cell_type": "code",
      "execution_count": null,
      "metadata": {
        "id": "H27yUJgxRA1D",
        "cellView": "form"
      },
      "outputs": [],
      "source": [
        "#\n",
        " vzb2018i.groupby(['GENDER','PERSON_INJURY'])['AGE'].mean().sort_values(ascending=True)"
      ]
    },
    {
      "cell_type": "code",
      "execution_count": null,
      "metadata": {
        "id": "pZxCNmuDJjjS",
        "cellView": "form"
      },
      "outputs": [],
      "source": [
        "#\n",
        " sns.pairplot(data=vzb2018i,hue='PERSON_INJURY',height=2.5) "
      ]
    },
    {
      "cell_type": "code",
      "execution_count": null,
      "metadata": {
        "id": "deyWQWGYHr7Q",
        "cellView": "form"
      },
      "outputs": [],
      "source": [
        "#\n",
        " sns.pairplot(data=vzb2018i,hue='BODILY_INJURY') "
      ]
    },
    {
      "cell_type": "code",
      "execution_count": null,
      "metadata": {
        "id": "yQzBb_ZoKZI8",
        "cellView": "form"
      },
      "outputs": [],
      "source": [
        "#\n",
        " sns.pairplot(data=vzb2018i,hue='PED_ROLE') "
      ]
    },
    {
      "cell_type": "code",
      "execution_count": null,
      "metadata": {
        "id": "fD9nP6geHXWa",
        "cellView": "form"
      },
      "outputs": [],
      "source": [
        "#\n",
        " sns.pairplot(data=vzb2018i,hue='EMOTIONAL_STATUS') "
      ]
    }
  ],
  "metadata": {
    "colab": {
      "collapsed_sections": [
        "wcYRLrtNhkDh",
        "9WlTRQ2Cy4UC",
        "whPWY1BMh5cX",
        "qqma7UfciB9A",
        "iLG9KWu4h1Md",
        "yF1-YxIUUesQ",
        "5W1c2AG0ojf5",
        "M4hX2NMtTsjj",
        "a0y_FJdyiO2q",
        "yupDHo0YI5M1",
        "QsSdOmDbyLZa",
        "qcL5wIaDWgxD",
        "RkMv0kkNE4DT",
        "lbmX3-Yro7Kr",
        "psw3GqyZ9XUU",
        "B8hjBzpgP5EM",
        "z274ZxarIpxm",
        "V5Tt9notLRqv"
      ],
      "name": "Capstone081322minuscharts.ipynb",
      "provenance": [],
      "include_colab_link": true
    },
    "kernelspec": {
      "display_name": "Python 3",
      "name": "python3"
    },
    "language_info": {
      "name": "python"
    }
  },
  "nbformat": 4,
  "nbformat_minor": 0
}